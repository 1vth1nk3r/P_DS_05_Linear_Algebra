{
 "cells": [
  {
   "cell_type": "markdown",
   "metadata": {},
   "source": [
    "# Statement"
   ]
  },
  {
   "cell_type": "markdown",
   "metadata": {},
   "source": [
    "The Sure Tomorrow insurance company wants to solve several tasks with the help of Machine Learning and you are asked to evaluate that possibility.\n",
    "\n",
    "- Task 1: Find customers who are similar to a given customer. This will help the company's agents with marketing.\n",
    "- Task 2: Predict whether a new customer is likely to receive an insurance benefit. Can a prediction model do better than a dummy model?\n",
    "- Task 3: Predict the number of insurance benefits a new customer will likely receive using a linear regression model.\n",
    "- Task 4: Protect clients' personal data without breaking the model from the previous task. It's necessary to develop a data transformation algorithm that would make it hard to recover personal information if the data fell into the wrong hands. This is called data masking, or data obfuscation. But the data should be protected in such a way that the quality of machine learning models doesn't suffer. You don't need to pick the best model, just prove that the algorithm works correctly."
   ]
  },
  {
   "cell_type": "markdown",
   "metadata": {},
   "source": [
    "**Description of the data**\n",
    "```\n",
    "/datasets/insurance_us.csv\n",
    "    Features: insured person's gender, age, salary, and number of family members.\n",
    "    Target: number of insurance benefits received by an insured person over the last five years.\n",
    "```"
   ]
  },
  {
   "cell_type": "markdown",
   "metadata": {},
   "source": [
    "# Data Preprocessing & Exploration\n",
    "\n",
    "## Initialization"
   ]
  },
  {
   "cell_type": "code",
   "execution_count": 1,
   "metadata": {},
   "outputs": [
    {
     "data": {
      "application/javascript": [
       "IPython.OutputArea.prototype._should_scroll = function(lines) {\n",
       "    return false;\n",
       "}\n"
      ],
      "text/plain": [
       "<IPython.core.display.Javascript object>"
      ]
     },
     "metadata": {},
     "output_type": "display_data"
    }
   ],
   "source": [
    "%%javascript\n",
    "IPython.OutputArea.prototype._should_scroll = function(lines) {\n",
    "    return false;\n",
    "}"
   ]
  },
  {
   "cell_type": "code",
   "execution_count": 2,
   "metadata": {},
   "outputs": [],
   "source": [
    "from collections import Counter\n",
    "import numpy as np\n",
    "import pandas as pd\n",
    "import math\n",
    "\n",
    "import matplotlib.pyplot as plt\n",
    "import seaborn as sns\n",
    "\n",
    "import sklearn.linear_model\n",
    "import sklearn.metrics\n",
    "import sklearn.neighbors\n",
    "import sklearn.preprocessing\n",
    "from sklearn.model_selection import train_test_split\n",
    "from sklearn.utils import shuffle\n",
    "\n",
    "from IPython.display import display, HTML, display_html"
   ]
  },
  {
   "cell_type": "code",
   "execution_count": 3,
   "metadata": {},
   "outputs": [],
   "source": [
    "%matplotlib inline\n",
    "%config InlineBackend.figure_format = 'retina'\n",
    "\n",
    "pd.set_option('display.float_format', '{:.3f}'.format)\n",
    "pd.set_option('display.max_colwidth', None) # no wrap\n",
    "pd.set_option('display.max_columns', 100) # columns number\n",
    "pd.set_option('display.max_rows', 50) # rows number"
   ]
  },
  {
   "cell_type": "markdown",
   "metadata": {},
   "source": [
    "## Load Data"
   ]
  },
  {
   "cell_type": "markdown",
   "metadata": {},
   "source": [
    "Load data and conduct a basic check that it's free from obvious issues."
   ]
  },
  {
   "cell_type": "code",
   "execution_count": 4,
   "metadata": {},
   "outputs": [],
   "source": [
    "try:\n",
    "    df = pd.read_csv('./datasets/insurance_us.csv')\n",
    "except:\n",
    "    df = pd.read_csv('/datasets/insurance_us.csv')"
   ]
  },
  {
   "cell_type": "markdown",
   "metadata": {},
   "source": [
    "We rename the colums to make the code look more consistent with its style."
   ]
  },
  {
   "cell_type": "code",
   "execution_count": 5,
   "metadata": {},
   "outputs": [],
   "source": [
    "df = df.rename(columns={'Gender': 'gender', 'Age': 'age', 'Salary': 'income', \\\n",
    "                        'Family members': 'family_members', 'Insurance benefits': 'insurance_benefits'})"
   ]
  },
  {
   "cell_type": "code",
   "execution_count": 6,
   "metadata": {},
   "outputs": [
    {
     "data": {
      "text/html": [
       "<div>\n",
       "<style scoped>\n",
       "    .dataframe tbody tr th:only-of-type {\n",
       "        vertical-align: middle;\n",
       "    }\n",
       "\n",
       "    .dataframe tbody tr th {\n",
       "        vertical-align: top;\n",
       "    }\n",
       "\n",
       "    .dataframe thead th {\n",
       "        text-align: right;\n",
       "    }\n",
       "</style>\n",
       "<table border=\"1\" class=\"dataframe\">\n",
       "  <thead>\n",
       "    <tr style=\"text-align: right;\">\n",
       "      <th></th>\n",
       "      <th>gender</th>\n",
       "      <th>age</th>\n",
       "      <th>income</th>\n",
       "      <th>family_members</th>\n",
       "      <th>insurance_benefits</th>\n",
       "    </tr>\n",
       "  </thead>\n",
       "  <tbody>\n",
       "    <tr>\n",
       "      <th>1127</th>\n",
       "      <td>1</td>\n",
       "      <td>35.000</td>\n",
       "      <td>30700.000</td>\n",
       "      <td>1</td>\n",
       "      <td>0</td>\n",
       "    </tr>\n",
       "    <tr>\n",
       "      <th>4713</th>\n",
       "      <td>0</td>\n",
       "      <td>31.000</td>\n",
       "      <td>33500.000</td>\n",
       "      <td>1</td>\n",
       "      <td>0</td>\n",
       "    </tr>\n",
       "    <tr>\n",
       "      <th>573</th>\n",
       "      <td>1</td>\n",
       "      <td>45.000</td>\n",
       "      <td>27200.000</td>\n",
       "      <td>1</td>\n",
       "      <td>1</td>\n",
       "    </tr>\n",
       "    <tr>\n",
       "      <th>3747</th>\n",
       "      <td>0</td>\n",
       "      <td>29.000</td>\n",
       "      <td>42900.000</td>\n",
       "      <td>4</td>\n",
       "      <td>0</td>\n",
       "    </tr>\n",
       "    <tr>\n",
       "      <th>356</th>\n",
       "      <td>1</td>\n",
       "      <td>30.000</td>\n",
       "      <td>31600.000</td>\n",
       "      <td>3</td>\n",
       "      <td>0</td>\n",
       "    </tr>\n",
       "    <tr>\n",
       "      <th>817</th>\n",
       "      <td>0</td>\n",
       "      <td>24.000</td>\n",
       "      <td>30000.000</td>\n",
       "      <td>0</td>\n",
       "      <td>0</td>\n",
       "    </tr>\n",
       "    <tr>\n",
       "      <th>1604</th>\n",
       "      <td>0</td>\n",
       "      <td>26.000</td>\n",
       "      <td>43400.000</td>\n",
       "      <td>1</td>\n",
       "      <td>0</td>\n",
       "    </tr>\n",
       "    <tr>\n",
       "      <th>3778</th>\n",
       "      <td>1</td>\n",
       "      <td>18.000</td>\n",
       "      <td>22000.000</td>\n",
       "      <td>1</td>\n",
       "      <td>0</td>\n",
       "    </tr>\n",
       "    <tr>\n",
       "      <th>1125</th>\n",
       "      <td>0</td>\n",
       "      <td>28.000</td>\n",
       "      <td>29800.000</td>\n",
       "      <td>1</td>\n",
       "      <td>0</td>\n",
       "    </tr>\n",
       "    <tr>\n",
       "      <th>4317</th>\n",
       "      <td>1</td>\n",
       "      <td>29.000</td>\n",
       "      <td>29100.000</td>\n",
       "      <td>1</td>\n",
       "      <td>0</td>\n",
       "    </tr>\n",
       "  </tbody>\n",
       "</table>\n",
       "</div>"
      ],
      "text/plain": [
       "      gender    age    income  family_members  insurance_benefits\n",
       "1127       1 35.000 30700.000               1                   0\n",
       "4713       0 31.000 33500.000               1                   0\n",
       "573        1 45.000 27200.000               1                   1\n",
       "3747       0 29.000 42900.000               4                   0\n",
       "356        1 30.000 31600.000               3                   0\n",
       "817        0 24.000 30000.000               0                   0\n",
       "1604       0 26.000 43400.000               1                   0\n",
       "3778       1 18.000 22000.000               1                   0\n",
       "1125       0 28.000 29800.000               1                   0\n",
       "4317       1 29.000 29100.000               1                   0"
      ]
     },
     "execution_count": 6,
     "metadata": {},
     "output_type": "execute_result"
    }
   ],
   "source": [
    "df.sample(10)"
   ]
  },
  {
   "cell_type": "code",
   "execution_count": 7,
   "metadata": {},
   "outputs": [
    {
     "name": "stdout",
     "output_type": "stream",
     "text": [
      "<class 'pandas.core.frame.DataFrame'>\n",
      "RangeIndex: 5000 entries, 0 to 4999\n",
      "Data columns (total 5 columns):\n",
      " #   Column              Non-Null Count  Dtype  \n",
      "---  ------              --------------  -----  \n",
      " 0   gender              5000 non-null   int64  \n",
      " 1   age                 5000 non-null   float64\n",
      " 2   income              5000 non-null   float64\n",
      " 3   family_members      5000 non-null   int64  \n",
      " 4   insurance_benefits  5000 non-null   int64  \n",
      "dtypes: float64(2), int64(3)\n",
      "memory usage: 195.4 KB\n"
     ]
    }
   ],
   "source": [
    "df.info()"
   ]
  },
  {
   "cell_type": "code",
   "execution_count": 8,
   "metadata": {},
   "outputs": [],
   "source": [
    "# we may want to fix the age type (from float to int) though this is not critical\n",
    "df['age'] = df['age'].astype(int)"
   ]
  },
  {
   "cell_type": "code",
   "execution_count": 9,
   "metadata": {},
   "outputs": [
    {
     "name": "stdout",
     "output_type": "stream",
     "text": [
      "<class 'pandas.core.frame.DataFrame'>\n",
      "RangeIndex: 5000 entries, 0 to 4999\n",
      "Data columns (total 5 columns):\n",
      " #   Column              Non-Null Count  Dtype  \n",
      "---  ------              --------------  -----  \n",
      " 0   gender              5000 non-null   int64  \n",
      " 1   age                 5000 non-null   int64  \n",
      " 2   income              5000 non-null   float64\n",
      " 3   family_members      5000 non-null   int64  \n",
      " 4   insurance_benefits  5000 non-null   int64  \n",
      "dtypes: float64(1), int64(4)\n",
      "memory usage: 195.4 KB\n"
     ]
    }
   ],
   "source": [
    "# check to see that the conversion was successful\n",
    "df.info()"
   ]
  },
  {
   "cell_type": "code",
   "execution_count": 10,
   "metadata": {},
   "outputs": [
    {
     "data": {
      "text/html": [
       "<div>\n",
       "<style scoped>\n",
       "    .dataframe tbody tr th:only-of-type {\n",
       "        vertical-align: middle;\n",
       "    }\n",
       "\n",
       "    .dataframe tbody tr th {\n",
       "        vertical-align: top;\n",
       "    }\n",
       "\n",
       "    .dataframe thead th {\n",
       "        text-align: right;\n",
       "    }\n",
       "</style>\n",
       "<table border=\"1\" class=\"dataframe\">\n",
       "  <thead>\n",
       "    <tr style=\"text-align: right;\">\n",
       "      <th></th>\n",
       "      <th>gender</th>\n",
       "      <th>age</th>\n",
       "      <th>income</th>\n",
       "      <th>family_members</th>\n",
       "      <th>insurance_benefits</th>\n",
       "    </tr>\n",
       "  </thead>\n",
       "  <tbody>\n",
       "    <tr>\n",
       "      <th>count</th>\n",
       "      <td>5000.000</td>\n",
       "      <td>5000.000</td>\n",
       "      <td>5000.000</td>\n",
       "      <td>5000.000</td>\n",
       "      <td>5000.000</td>\n",
       "    </tr>\n",
       "    <tr>\n",
       "      <th>mean</th>\n",
       "      <td>0.499</td>\n",
       "      <td>30.953</td>\n",
       "      <td>39916.360</td>\n",
       "      <td>1.194</td>\n",
       "      <td>0.148</td>\n",
       "    </tr>\n",
       "    <tr>\n",
       "      <th>std</th>\n",
       "      <td>0.500</td>\n",
       "      <td>8.441</td>\n",
       "      <td>9900.084</td>\n",
       "      <td>1.091</td>\n",
       "      <td>0.463</td>\n",
       "    </tr>\n",
       "    <tr>\n",
       "      <th>min</th>\n",
       "      <td>0.000</td>\n",
       "      <td>18.000</td>\n",
       "      <td>5300.000</td>\n",
       "      <td>0.000</td>\n",
       "      <td>0.000</td>\n",
       "    </tr>\n",
       "    <tr>\n",
       "      <th>25%</th>\n",
       "      <td>0.000</td>\n",
       "      <td>24.000</td>\n",
       "      <td>33300.000</td>\n",
       "      <td>0.000</td>\n",
       "      <td>0.000</td>\n",
       "    </tr>\n",
       "    <tr>\n",
       "      <th>50%</th>\n",
       "      <td>0.000</td>\n",
       "      <td>30.000</td>\n",
       "      <td>40200.000</td>\n",
       "      <td>1.000</td>\n",
       "      <td>0.000</td>\n",
       "    </tr>\n",
       "    <tr>\n",
       "      <th>75%</th>\n",
       "      <td>1.000</td>\n",
       "      <td>37.000</td>\n",
       "      <td>46600.000</td>\n",
       "      <td>2.000</td>\n",
       "      <td>0.000</td>\n",
       "    </tr>\n",
       "    <tr>\n",
       "      <th>max</th>\n",
       "      <td>1.000</td>\n",
       "      <td>65.000</td>\n",
       "      <td>79000.000</td>\n",
       "      <td>6.000</td>\n",
       "      <td>5.000</td>\n",
       "    </tr>\n",
       "  </tbody>\n",
       "</table>\n",
       "</div>"
      ],
      "text/plain": [
       "        gender      age    income  family_members  insurance_benefits\n",
       "count 5000.000 5000.000  5000.000        5000.000            5000.000\n",
       "mean     0.499   30.953 39916.360           1.194               0.148\n",
       "std      0.500    8.441  9900.084           1.091               0.463\n",
       "min      0.000   18.000  5300.000           0.000               0.000\n",
       "25%      0.000   24.000 33300.000           0.000               0.000\n",
       "50%      0.000   30.000 40200.000           1.000               0.000\n",
       "75%      1.000   37.000 46600.000           2.000               0.000\n",
       "max      1.000   65.000 79000.000           6.000               5.000"
      ]
     },
     "execution_count": 10,
     "metadata": {},
     "output_type": "execute_result"
    }
   ],
   "source": [
    "# now have a look at the data's descriptive statistics. \n",
    "# Does everything look okay?\n",
    "df.describe()"
   ]
  },
  {
   "cell_type": "code",
   "execution_count": 11,
   "metadata": {},
   "outputs": [
    {
     "name": "stdout",
     "output_type": "stream",
     "text": [
      "Duplicates in data: 153 (3.06%)\n"
     ]
    }
   ],
   "source": [
    "print(f'Duplicates in data: {df.duplicated().sum()} ({(df.duplicated().sum() / df.shape[0]):.2%})')"
   ]
  },
  {
   "cell_type": "code",
   "execution_count": 12,
   "metadata": {},
   "outputs": [],
   "source": [
    "df.drop_duplicates(keep=False, inplace=True, ignore_index=True)"
   ]
  },
  {
   "cell_type": "markdown",
   "metadata": {},
   "source": [
    "**Conclusion**\n",
    "\n",
    "There are no missing values in this dataset.\n",
    "\n",
    "We changed data type of the `age` feature to integer.  \n",
    "\n",
    "We had 3% of duplicates to drop."
   ]
  },
  {
   "cell_type": "markdown",
   "metadata": {},
   "source": [
    "## EDA"
   ]
  },
  {
   "cell_type": "markdown",
   "metadata": {},
   "source": [
    "Let's quickly check whether there are certain groups of customers by looking at the pair plot."
   ]
  },
  {
   "cell_type": "code",
   "execution_count": 13,
   "metadata": {},
   "outputs": [
    {
     "data": {
      "image/png": "[encoded data removed]",
      "text/plain": [
       "<Figure size 1200x1200 with 30 Axes>"
      ]
     },
     "metadata": {
      "image/png": {
       "height": 1184,
       "width": 1186
      }
     },
     "output_type": "display_data"
    }
   ],
   "source": [
    "g = sns.pairplot(df, kind='hist')\n",
    "g.fig.set_size_inches(12, 12)"
   ]
  },
  {
   "cell_type": "markdown",
   "metadata": {},
   "source": [
    "Ok, it is a bit difficult to spot obvious groups (clusters) as it is difficult to combine several variables simultaneously (to analyze multivariate distributions). That's where LA and ML can be quite handy."
   ]
  },
  {
   "cell_type": "markdown",
   "metadata": {},
   "source": [
    "# Task 1. Similar Customers"
   ]
  },
  {
   "cell_type": "markdown",
   "metadata": {},
   "source": [
    "In the language of ML, it is necessary to develop a procedure that returns k nearest neighbors (objects) for a given object based on the distance between the objects.\n",
    "\n",
    "You may want to review the following lessons (chapter -> lesson)\n",
    "- Distance Between Vectors -> Euclidean Distance\n",
    "- Distance Between Vectors -> Manhattan Distance\n",
    "\n",
    "To solve the task, we can try different distance metrics."
   ]
  },
  {
   "cell_type": "markdown",
   "metadata": {},
   "source": [
    "Write a function that returns k nearest neighbors for an $n^{th}$ object based on a specified distance metric. The number of received insurance benefits should not be taken into account for this task. \n",
    "\n",
    "You can use a ready implementation of the kNN algorithm from scikit-learn (check [the link](https://scikit-learn.org/stable/modules/generated/sklearn.neighbors.NearestNeighbors.html#sklearn.neighbors.NearestNeighbors)) or use your own.\n",
    "\n",
    "Test it for four combination of two cases\n",
    "- Scaling\n",
    "  - the data is not scaled\n",
    "  - the data is scaled with the [MaxAbsScaler](https://scikit-learn.org/stable/modules/generated/sklearn.preprocessing.MaxAbsScaler.html) scaler\n",
    "- Distance Metrics\n",
    "  - Euclidean\n",
    "  - Manhattan\n",
    "\n",
    "Answer these questions:\n",
    "- Does the data being not scaled affect the kNN algorithm? If so, how does that appear?\n",
    "- How similar are the results using the Manhattan distance metric (regardless of the scaling)?"
   ]
  },
  {
   "cell_type": "code",
   "execution_count": 14,
   "metadata": {},
   "outputs": [],
   "source": [
    "feature_names = ['gender', 'age', 'income', 'family_members']"
   ]
  },
  {
   "cell_type": "markdown",
   "metadata": {},
   "source": [
    "Scaling the data."
   ]
  },
  {
   "cell_type": "code",
   "execution_count": 15,
   "metadata": {},
   "outputs": [],
   "source": [
    "transformer_mas = sklearn.preprocessing.MaxAbsScaler().fit(df[feature_names].to_numpy())\n",
    "\n",
    "df_scaled = df.copy()\n",
    "df_scaled[feature_names] = transformer_mas.transform(df[feature_names].to_numpy())"
   ]
  },
  {
   "cell_type": "code",
   "execution_count": 16,
   "metadata": {},
   "outputs": [
    {
     "data": {
      "text/html": [
       "<div>\n",
       "<style scoped>\n",
       "    .dataframe tbody tr th:only-of-type {\n",
       "        vertical-align: middle;\n",
       "    }\n",
       "\n",
       "    .dataframe tbody tr th {\n",
       "        vertical-align: top;\n",
       "    }\n",
       "\n",
       "    .dataframe thead th {\n",
       "        text-align: right;\n",
       "    }\n",
       "</style>\n",
       "<table border=\"1\" class=\"dataframe\">\n",
       "  <thead>\n",
       "    <tr style=\"text-align: right;\">\n",
       "      <th></th>\n",
       "      <th>gender</th>\n",
       "      <th>age</th>\n",
       "      <th>income</th>\n",
       "      <th>family_members</th>\n",
       "      <th>insurance_benefits</th>\n",
       "    </tr>\n",
       "  </thead>\n",
       "  <tbody>\n",
       "    <tr>\n",
       "      <th>1334</th>\n",
       "      <td>1.000</td>\n",
       "      <td>0.446</td>\n",
       "      <td>0.332</td>\n",
       "      <td>0.000</td>\n",
       "      <td>0</td>\n",
       "    </tr>\n",
       "    <tr>\n",
       "      <th>1157</th>\n",
       "      <td>1.000</td>\n",
       "      <td>0.338</td>\n",
       "      <td>0.686</td>\n",
       "      <td>0.167</td>\n",
       "      <td>0</td>\n",
       "    </tr>\n",
       "    <tr>\n",
       "      <th>2684</th>\n",
       "      <td>0.000</td>\n",
       "      <td>0.538</td>\n",
       "      <td>0.476</td>\n",
       "      <td>0.000</td>\n",
       "      <td>0</td>\n",
       "    </tr>\n",
       "    <tr>\n",
       "      <th>286</th>\n",
       "      <td>0.000</td>\n",
       "      <td>0.385</td>\n",
       "      <td>0.414</td>\n",
       "      <td>0.167</td>\n",
       "      <td>0</td>\n",
       "    </tr>\n",
       "    <tr>\n",
       "      <th>1408</th>\n",
       "      <td>0.000</td>\n",
       "      <td>0.369</td>\n",
       "      <td>0.557</td>\n",
       "      <td>0.167</td>\n",
       "      <td>0</td>\n",
       "    </tr>\n",
       "  </tbody>\n",
       "</table>\n",
       "</div>"
      ],
      "text/plain": [
       "      gender   age  income  family_members  insurance_benefits\n",
       "1334   1.000 0.446   0.332           0.000                   0\n",
       "1157   1.000 0.338   0.686           0.167                   0\n",
       "2684   0.000 0.538   0.476           0.000                   0\n",
       "286    0.000 0.385   0.414           0.167                   0\n",
       "1408   0.000 0.369   0.557           0.167                   0"
      ]
     },
     "execution_count": 16,
     "metadata": {},
     "output_type": "execute_result"
    }
   ],
   "source": [
    "df_scaled.sample(5)"
   ]
  },
  {
   "cell_type": "code",
   "execution_count": 17,
   "metadata": {},
   "outputs": [],
   "source": [
    "def get_knn(df, n, k, metric):\n",
    "    \n",
    "    \"\"\"\n",
    "    Returns k nearest neighbors\n",
    "\n",
    "    :param df: pandas DataFrame used to find similar objects within\n",
    "    :param n: object no for which the nearest neighbours are looked for\n",
    "    :param k: the number of the nearest neighbours to return\n",
    "    :param metric: name of distance metric\n",
    "    \"\"\"\n",
    "    p = 1 if metric == 'manhattan' else 2\n",
    "    nbrs = sklearn.neighbors.NearestNeighbors(p=p)\n",
    "    nbrs.fit(df.values)\n",
    "    nbrs_distances, nbrs_indices = nbrs.kneighbors([df.iloc[n][feature_names]], k, return_distance=True)\n",
    "    \n",
    "    df_res = pd.concat([\n",
    "        df.iloc[nbrs_indices[0]], \n",
    "        pd.DataFrame(nbrs_distances.T, index=nbrs_indices[0], columns=['distance'])\n",
    "        ], axis=1)\n",
    "    \n",
    "    return df_res"
   ]
  },
  {
   "cell_type": "markdown",
   "metadata": {},
   "source": [
    "Now, let's get similar records for a given one for every combination"
   ]
  },
  {
   "cell_type": "code",
   "execution_count": 18,
   "metadata": {},
   "outputs": [
    {
     "data": {
      "text/html": [
       "<div>\n",
       "<style scoped>\n",
       "    .dataframe tbody tr th:only-of-type {\n",
       "        vertical-align: middle;\n",
       "    }\n",
       "\n",
       "    .dataframe tbody tr th {\n",
       "        vertical-align: top;\n",
       "    }\n",
       "\n",
       "    .dataframe thead th {\n",
       "        text-align: right;\n",
       "    }\n",
       "</style>\n",
       "<table border=\"1\" class=\"dataframe\">\n",
       "  <thead>\n",
       "    <tr style=\"text-align: right;\">\n",
       "      <th></th>\n",
       "      <th>gender</th>\n",
       "      <th>age</th>\n",
       "      <th>income</th>\n",
       "      <th>family_members</th>\n",
       "      <th>distance</th>\n",
       "    </tr>\n",
       "  </thead>\n",
       "  <tbody>\n",
       "    <tr>\n",
       "      <th>42</th>\n",
       "      <td>0</td>\n",
       "      <td>30</td>\n",
       "      <td>31600.000</td>\n",
       "      <td>2</td>\n",
       "      <td>0.000</td>\n",
       "    </tr>\n",
       "    <tr>\n",
       "      <th>4075</th>\n",
       "      <td>0</td>\n",
       "      <td>30</td>\n",
       "      <td>31600.000</td>\n",
       "      <td>1</td>\n",
       "      <td>1.000</td>\n",
       "    </tr>\n",
       "    <tr>\n",
       "      <th>327</th>\n",
       "      <td>1</td>\n",
       "      <td>30</td>\n",
       "      <td>31600.000</td>\n",
       "      <td>3</td>\n",
       "      <td>2.000</td>\n",
       "    </tr>\n",
       "    <tr>\n",
       "      <th>2757</th>\n",
       "      <td>1</td>\n",
       "      <td>30</td>\n",
       "      <td>31600.000</td>\n",
       "      <td>0</td>\n",
       "      <td>3.000</td>\n",
       "    </tr>\n",
       "  </tbody>\n",
       "</table>\n",
       "</div>"
      ],
      "text/plain": [
       "      gender  age    income  family_members  distance\n",
       "42         0   30 31600.000               2     0.000\n",
       "4075       0   30 31600.000               1     1.000\n",
       "327        1   30 31600.000               3     2.000\n",
       "2757       1   30 31600.000               0     3.000"
      ]
     },
     "execution_count": 18,
     "metadata": {},
     "output_type": "execute_result"
    }
   ],
   "source": [
    "res_manhattan = get_knn(df[feature_names], 42, 4, 'manhattan')\n",
    "res_manhattan"
   ]
  },
  {
   "cell_type": "code",
   "execution_count": 19,
   "metadata": {},
   "outputs": [
    {
     "data": {
      "text/html": [
       "<div>\n",
       "<style scoped>\n",
       "    .dataframe tbody tr th:only-of-type {\n",
       "        vertical-align: middle;\n",
       "    }\n",
       "\n",
       "    .dataframe tbody tr th {\n",
       "        vertical-align: top;\n",
       "    }\n",
       "\n",
       "    .dataframe thead th {\n",
       "        text-align: right;\n",
       "    }\n",
       "</style>\n",
       "<table border=\"1\" class=\"dataframe\">\n",
       "  <thead>\n",
       "    <tr style=\"text-align: right;\">\n",
       "      <th></th>\n",
       "      <th>gender</th>\n",
       "      <th>age</th>\n",
       "      <th>income</th>\n",
       "      <th>family_members</th>\n",
       "      <th>distance</th>\n",
       "    </tr>\n",
       "  </thead>\n",
       "  <tbody>\n",
       "    <tr>\n",
       "      <th>42</th>\n",
       "      <td>0</td>\n",
       "      <td>30</td>\n",
       "      <td>31600.000</td>\n",
       "      <td>2</td>\n",
       "      <td>0.000</td>\n",
       "    </tr>\n",
       "    <tr>\n",
       "      <th>4075</th>\n",
       "      <td>0</td>\n",
       "      <td>30</td>\n",
       "      <td>31600.000</td>\n",
       "      <td>1</td>\n",
       "      <td>1.000</td>\n",
       "    </tr>\n",
       "    <tr>\n",
       "      <th>327</th>\n",
       "      <td>1</td>\n",
       "      <td>30</td>\n",
       "      <td>31600.000</td>\n",
       "      <td>3</td>\n",
       "      <td>1.414</td>\n",
       "    </tr>\n",
       "    <tr>\n",
       "      <th>2757</th>\n",
       "      <td>1</td>\n",
       "      <td>30</td>\n",
       "      <td>31600.000</td>\n",
       "      <td>0</td>\n",
       "      <td>2.236</td>\n",
       "    </tr>\n",
       "  </tbody>\n",
       "</table>\n",
       "</div>"
      ],
      "text/plain": [
       "      gender  age    income  family_members  distance\n",
       "42         0   30 31600.000               2     0.000\n",
       "4075       0   30 31600.000               1     1.000\n",
       "327        1   30 31600.000               3     1.414\n",
       "2757       1   30 31600.000               0     2.236"
      ]
     },
     "execution_count": 19,
     "metadata": {},
     "output_type": "execute_result"
    }
   ],
   "source": [
    "res_euclidean = get_knn(df[feature_names], 42, 4, 'euclidean')\n",
    "res_euclidean"
   ]
  },
  {
   "cell_type": "code",
   "execution_count": 20,
   "metadata": {},
   "outputs": [
    {
     "data": {
      "text/html": [
       "<div>\n",
       "<style scoped>\n",
       "    .dataframe tbody tr th:only-of-type {\n",
       "        vertical-align: middle;\n",
       "    }\n",
       "\n",
       "    .dataframe tbody tr th {\n",
       "        vertical-align: top;\n",
       "    }\n",
       "\n",
       "    .dataframe thead th {\n",
       "        text-align: right;\n",
       "    }\n",
       "</style>\n",
       "<table border=\"1\" class=\"dataframe\">\n",
       "  <thead>\n",
       "    <tr style=\"text-align: right;\">\n",
       "      <th></th>\n",
       "      <th>gender</th>\n",
       "      <th>age</th>\n",
       "      <th>income</th>\n",
       "      <th>family_members</th>\n",
       "      <th>distance</th>\n",
       "    </tr>\n",
       "  </thead>\n",
       "  <tbody>\n",
       "    <tr>\n",
       "      <th>42</th>\n",
       "      <td>0.000</td>\n",
       "      <td>0.462</td>\n",
       "      <td>0.400</td>\n",
       "      <td>0.333</td>\n",
       "      <td>0.000</td>\n",
       "    </tr>\n",
       "    <tr>\n",
       "      <th>1526</th>\n",
       "      <td>0.000</td>\n",
       "      <td>0.477</td>\n",
       "      <td>0.395</td>\n",
       "      <td>0.333</td>\n",
       "      <td>0.020</td>\n",
       "    </tr>\n",
       "    <tr>\n",
       "      <th>1587</th>\n",
       "      <td>0.000</td>\n",
       "      <td>0.446</td>\n",
       "      <td>0.406</td>\n",
       "      <td>0.333</td>\n",
       "      <td>0.022</td>\n",
       "    </tr>\n",
       "    <tr>\n",
       "      <th>761</th>\n",
       "      <td>0.000</td>\n",
       "      <td>0.446</td>\n",
       "      <td>0.408</td>\n",
       "      <td>0.333</td>\n",
       "      <td>0.023</td>\n",
       "    </tr>\n",
       "  </tbody>\n",
       "</table>\n",
       "</div>"
      ],
      "text/plain": [
       "      gender   age  income  family_members  distance\n",
       "42     0.000 0.462   0.400           0.333     0.000\n",
       "1526   0.000 0.477   0.395           0.333     0.020\n",
       "1587   0.000 0.446   0.406           0.333     0.022\n",
       "761    0.000 0.446   0.408           0.333     0.023"
      ]
     },
     "execution_count": 20,
     "metadata": {},
     "output_type": "execute_result"
    }
   ],
   "source": [
    "res_manhattan_scaled = get_knn(df_scaled[feature_names], 42, 4, 'manhattan')\n",
    "res_manhattan_scaled"
   ]
  },
  {
   "cell_type": "code",
   "execution_count": 21,
   "metadata": {},
   "outputs": [
    {
     "data": {
      "text/html": [
       "<div>\n",
       "<style scoped>\n",
       "    .dataframe tbody tr th:only-of-type {\n",
       "        vertical-align: middle;\n",
       "    }\n",
       "\n",
       "    .dataframe tbody tr th {\n",
       "        vertical-align: top;\n",
       "    }\n",
       "\n",
       "    .dataframe thead th {\n",
       "        text-align: right;\n",
       "    }\n",
       "</style>\n",
       "<table border=\"1\" class=\"dataframe\">\n",
       "  <thead>\n",
       "    <tr style=\"text-align: right;\">\n",
       "      <th></th>\n",
       "      <th>gender</th>\n",
       "      <th>age</th>\n",
       "      <th>income</th>\n",
       "      <th>family_members</th>\n",
       "      <th>distance</th>\n",
       "    </tr>\n",
       "  </thead>\n",
       "  <tbody>\n",
       "    <tr>\n",
       "      <th>42</th>\n",
       "      <td>0.000</td>\n",
       "      <td>0.462</td>\n",
       "      <td>0.400</td>\n",
       "      <td>0.333</td>\n",
       "      <td>0.000</td>\n",
       "    </tr>\n",
       "    <tr>\n",
       "      <th>1526</th>\n",
       "      <td>0.000</td>\n",
       "      <td>0.477</td>\n",
       "      <td>0.395</td>\n",
       "      <td>0.333</td>\n",
       "      <td>0.016</td>\n",
       "    </tr>\n",
       "    <tr>\n",
       "      <th>1587</th>\n",
       "      <td>0.000</td>\n",
       "      <td>0.446</td>\n",
       "      <td>0.406</td>\n",
       "      <td>0.333</td>\n",
       "      <td>0.017</td>\n",
       "    </tr>\n",
       "    <tr>\n",
       "      <th>761</th>\n",
       "      <td>0.000</td>\n",
       "      <td>0.446</td>\n",
       "      <td>0.408</td>\n",
       "      <td>0.333</td>\n",
       "      <td>0.017</td>\n",
       "    </tr>\n",
       "  </tbody>\n",
       "</table>\n",
       "</div>"
      ],
      "text/plain": [
       "      gender   age  income  family_members  distance\n",
       "42     0.000 0.462   0.400           0.333     0.000\n",
       "1526   0.000 0.477   0.395           0.333     0.016\n",
       "1587   0.000 0.446   0.406           0.333     0.017\n",
       "761    0.000 0.446   0.408           0.333     0.017"
      ]
     },
     "execution_count": 21,
     "metadata": {},
     "output_type": "execute_result"
    }
   ],
   "source": [
    "res_euclidean_scaled = get_knn(df_scaled[feature_names], 42, 4, 'euclidean')\n",
    "res_euclidean_scaled"
   ]
  },
  {
   "cell_type": "markdown",
   "metadata": {},
   "source": [
    "Answers to the questions"
   ]
  },
  {
   "cell_type": "markdown",
   "metadata": {},
   "source": [
    "**Does the data being not scaled affect the kNN algorithm? If so, how does that appear?** \n",
    "\n",
    "Scaled and unscaled data give different results. With raw data, everything except income doesn't affect the vectors a lot."
   ]
  },
  {
   "cell_type": "markdown",
   "metadata": {},
   "source": [
    "**How similar are the results using the Manhattan distance metric (regardless of the scaling)?** \n",
    "\n",
    "The results of finding using the Manhattan distance metric are very close. For scaled data, the distance to the top 3 is 0.20-0.23."
   ]
  },
  {
   "cell_type": "markdown",
   "metadata": {},
   "source": [
    "# Task 2. Is Customer Likely to Receive Insurance Benefit?"
   ]
  },
  {
   "cell_type": "markdown",
   "metadata": {},
   "source": [
    "In terms of machine learning we can look at this like a binary classification task."
   ]
  },
  {
   "cell_type": "markdown",
   "metadata": {},
   "source": [
    "With `insurance_benefits` being more than zero as the target, evaluate whether the kNN classification approach can do better than a dummy model.\n",
    "\n",
    "Instructions:\n",
    "- Build a KNN-based classifier and measure its quality with the F1 metric for k=1..10 for both the original data and the scaled one. That'd be interesting to see how k may influece the evaluation metric, and whether scaling the data makes any difference. You can use a ready implemention of the kNN classification algorithm from scikit-learn (check [the link](https://scikit-learn.org/stable/modules/generated/sklearn.neighbors.KNeighborsClassifier.html)) or use your own.\n",
    "- Build the dummy model which is just random for this case. It should return \"1\" with some probability. Let's test the model with four probability values: 0, the probability of paying any insurance benefit, 0.5, 1.\n",
    "\n",
    "The probability of paying any insurance benefit can be defined as\n",
    "\n",
    "$$\n",
    "P\\{\\text{insurance benefit received}\\}=\\frac{\\text{number of clients received any insurance benefit}}{\\text{total number of clients}}.\n",
    "$$\n",
    "\n",
    "Split the whole data in the 70:30 proportion for the training/testing parts."
   ]
  },
  {
   "cell_type": "code",
   "execution_count": 22,
   "metadata": {},
   "outputs": [],
   "source": [
    "# calculate the target\n",
    "df['insurance_benefits_received'] = (df['insurance_benefits'] > 0) * 1\n",
    "df_scaled['insurance_benefits_received'] = (df_scaled['insurance_benefits'] > 0) * 1"
   ]
  },
  {
   "cell_type": "code",
   "execution_count": 23,
   "metadata": {},
   "outputs": [
    {
     "data": {
      "text/plain": [
       "0   0.880\n",
       "1   0.120\n",
       "Name: insurance_benefits_received, dtype: float64"
      ]
     },
     "execution_count": 23,
     "metadata": {},
     "output_type": "execute_result"
    }
   ],
   "source": [
    "# check for the class imbalance with value_counts()\n",
    "df['insurance_benefits_received'].value_counts(normalize=True)"
   ]
  },
  {
   "cell_type": "markdown",
   "metadata": {},
   "source": [
    "We have a vast imbalance of classes, so we have to resample the train part after splitting."
   ]
  },
  {
   "cell_type": "code",
   "execution_count": 24,
   "metadata": {},
   "outputs": [],
   "source": [
    "def upsample(features, target, repeat):\n",
    "    features_zeros = features[target == 0]\n",
    "    features_ones = features[target == 1]\n",
    "    target_zeros = target[target == 0]\n",
    "    target_ones = target[target == 1]\n",
    "\n",
    "    features_upsampled = pd.concat([features_zeros] + [features_ones] * repeat)\n",
    "    target_upsampled = pd.concat([target_zeros] + [target_ones] * repeat)\n",
    "    features_upsampled, target_upsampled = shuffle(features_upsampled, target_upsampled, random_state=42)\n",
    "\n",
    "    return features_upsampled, target_upsampled"
   ]
  },
  {
   "cell_type": "code",
   "execution_count": 25,
   "metadata": {},
   "outputs": [
    {
     "name": "stdout",
     "output_type": "stream",
     "text": [
      "Unscaled\n",
      "Train set length: 3290\n",
      "Test set length: 1410\n",
      "\n",
      "After resampling\n",
      "Train set length: 6048\n",
      "Test set length: 1410\n"
     ]
    }
   ],
   "source": [
    "print('Unscaled')\n",
    "X_train, X_test, y_train, y_test = train_test_split(df[feature_names], df['insurance_benefits_received'],\\\n",
    "                                                    test_size=0.3, random_state=42)\n",
    "\n",
    "print('Train set length:', X_train.shape[0])\n",
    "print('Test set length:', X_test.shape[0])\n",
    "\n",
    "X_train, y_train = upsample(X_train, y_train, int(y_train.shape[0]/y_train.sum()))\n",
    "\n",
    "print()\n",
    "print('After resampling')\n",
    "print('Train set length:', X_train.shape[0])\n",
    "print('Test set length:', X_test.shape[0])"
   ]
  },
  {
   "cell_type": "code",
   "execution_count": 26,
   "metadata": {},
   "outputs": [
    {
     "name": "stdout",
     "output_type": "stream",
     "text": [
      "Scaled\n",
      "Train set length: 3290\n",
      "Test set length: 1410\n",
      "\n",
      "After resampling\n",
      "Train set length: 6048\n",
      "Test set length: 1410\n"
     ]
    }
   ],
   "source": [
    "print('Scaled')\n",
    "X_scale_train, X_scale_test, y_scale_train, y_scale_test = train_test_split(df_scaled[feature_names],\\\n",
    "                                                            df_scaled['insurance_benefits_received'],\\\n",
    "                                                            test_size=0.3, random_state=42)\n",
    "\n",
    "print('Train set length:', X_scale_train.shape[0])\n",
    "print('Test set length:', X_scale_test.shape[0])\n",
    "\n",
    "rep = int(df['insurance_benefits_received'].shape[0]/df['insurance_benefits_received'].sum())\n",
    "X_train, y_train = upsample(X_train, y_train, rep)\n",
    "\n",
    "\n",
    "X_scale_train, y_scale_train = upsample(X_scale_train, y_scale_train, \\\n",
    "                                        int(y_scale_train.shape[0]/y_scale_train.sum()))\n",
    "\n",
    "print()\n",
    "print('After resampling')\n",
    "print('Train set length:', X_scale_train.shape[0])\n",
    "print('Test set length:', X_scale_test.shape[0])"
   ]
  },
  {
   "cell_type": "markdown",
   "metadata": {},
   "source": [
    "Let's train KNeighborsClassifier for k=1..10 on unscaled data and measure its quality with the F1 metric."
   ]
  },
  {
   "cell_type": "code",
   "execution_count": 27,
   "metadata": {},
   "outputs": [
    {
     "name": "stdout",
     "output_type": "stream",
     "text": [
      "k=1 F1: 0.673\n",
      "k=2 F1: 0.673\n",
      "k=3 F1: 0.659\n",
      "k=4 F1: 0.659\n",
      "k=5 F1: 0.589\n",
      "k=6 F1: 0.589\n",
      "k=7 F1: 0.539\n",
      "k=8 F1: 0.539\n",
      "k=9 F1: 0.472\n",
      "k=10 F1: 0.472\n"
     ]
    }
   ],
   "source": [
    "k = 1\n",
    "f1 = 0\n",
    "for i in range(1, 11):\n",
    "    model = sklearn.neighbors.KNeighborsClassifier(n_neighbors=i)\n",
    "    model.fit(X_train, y_train)\n",
    "    print(f'k={i} F1: {sklearn.metrics.f1_score(y_test, model.predict(X_test)):.3f}') "
   ]
  },
  {
   "cell_type": "markdown",
   "metadata": {},
   "source": [
    "Now the same on scaled data."
   ]
  },
  {
   "cell_type": "code",
   "execution_count": 28,
   "metadata": {},
   "outputs": [
    {
     "name": "stdout",
     "output_type": "stream",
     "text": [
      "k=1 F1: 0.943\n",
      "k=2 F1: 0.943\n",
      "k=3 F1: 0.944\n",
      "k=4 F1: 0.944\n",
      "k=5 F1: 0.921\n",
      "k=6 F1: 0.921\n",
      "k=7 F1: 0.902\n",
      "k=8 F1: 0.902\n",
      "k=9 F1: 0.884\n",
      "k=10 F1: 0.884\n"
     ]
    }
   ],
   "source": [
    "k = 1\n",
    "f1 = 0\n",
    "for i in range(1, 11):\n",
    "    model = sklearn.neighbors.KNeighborsClassifier(n_neighbors=i)\n",
    "    model.fit(X_scale_train, y_scale_train)\n",
    "    print(f'k={i} F1: {sklearn.metrics.f1_score(y_scale_test, model.predict(X_scale_test)):.3f}') "
   ]
  },
  {
   "cell_type": "code",
   "execution_count": 29,
   "metadata": {},
   "outputs": [
    {
     "data": {
      "image/png": "[encoded data removed]",
      "text/plain": [
       "<Figure size 640x480 with 1 Axes>"
      ]
     },
     "metadata": {
      "image/png": {
       "height": 454,
       "width": 578
      }
     },
     "output_type": "display_data"
    }
   ],
   "source": [
    "model = sklearn.neighbors.KNeighborsClassifier(n_neighbors=4)\n",
    "model.fit(X_scale_train, y_scale_train)\n",
    "\n",
    "fpr, tpr, thresholds = sklearn.metrics.roc_curve(y_scale_test, model.predict_proba(X_scale_test)[:, 1])\n",
    "\n",
    "plt.figure()\n",
    "plt.plot(fpr, tpr)\n",
    "plt.plot([0, 1], [0, 1], linestyle='--')\n",
    "plt.xlim([0.0, 1.0])\n",
    "plt.ylim([0.0, 1.0])\n",
    "plt.xlabel('False Positive Rate')\n",
    "plt.ylabel('True Positive Rate')\n",
    "plt.title('ROC curve')\n",
    "plt.show()"
   ]
  },
  {
   "cell_type": "markdown",
   "metadata": {},
   "source": [
    "Let's build a dummy model and look at its F1 metric and confusion matrix."
   ]
  },
  {
   "cell_type": "code",
   "execution_count": 30,
   "metadata": {},
   "outputs": [],
   "source": [
    "def eval_classifier(y_true, y_pred):\n",
    "    \n",
    "    f1_score = sklearn.metrics.f1_score(y_true, y_pred)\n",
    "    print(f'F1: {f1_score:.2f}')\n",
    "    \n",
    "# if you have an issue with the following line, restart the kernel and run the notebook again\n",
    "    cm = sklearn.metrics.confusion_matrix(y_true, y_pred, normalize='all')\n",
    "    print('Confusion Matrix')\n",
    "    print(cm)"
   ]
  },
  {
   "cell_type": "code",
   "execution_count": 31,
   "metadata": {},
   "outputs": [],
   "source": [
    "# generating output of a random model\n",
    "\n",
    "def rnd_model_predict(P, size, seed=42):\n",
    "\n",
    "    rng = np.random.default_rng(seed=seed)\n",
    "    return rng.binomial(n=1, p=P, size=size)"
   ]
  },
  {
   "cell_type": "code",
   "execution_count": 32,
   "metadata": {},
   "outputs": [
    {
     "name": "stdout",
     "output_type": "stream",
     "text": [
      "The probability: 0.00\n",
      "F1: 0.00\n",
      "Confusion Matrix\n",
      "[[0.88042553 0.        ]\n",
      " [0.11957447 0.        ]]\n",
      "\n",
      "The probability: 0.12\n",
      "F1: 0.14\n",
      "Confusion Matrix\n",
      "[[0.77957447 0.10085106]\n",
      " [0.10319149 0.01638298]]\n",
      "\n",
      "The probability: 0.50\n",
      "F1: 0.20\n",
      "Confusion Matrix\n",
      "[[0.44787234 0.43255319]\n",
      " [0.05829787 0.0612766 ]]\n",
      "\n",
      "The probability: 1.00\n",
      "F1: 0.21\n",
      "Confusion Matrix\n",
      "[[0.         0.88042553]\n",
      " [0.         0.11957447]]\n",
      "\n"
     ]
    }
   ],
   "source": [
    "for P in [0, df['insurance_benefits_received'].sum() / len(df), 0.5, 1]:\n",
    "\n",
    "    print(f'The probability: {P:.2f}')\n",
    "    y_pred_rnd = rnd_model_predict(P, df.shape[0])\n",
    "        \n",
    "    eval_classifier(df['insurance_benefits_received'], y_pred_rnd)\n",
    "    \n",
    "    print()"
   ]
  },
  {
   "cell_type": "markdown",
   "metadata": {},
   "source": [
    "**Conclusion**  \n",
    "The KNeighborsClassifier performs better on scaled data. The best results are with 3 or 4 neighbors.  \n",
    "The dummy model based on random choice with different probabilities gives a very low F1 metric."
   ]
  },
  {
   "cell_type": "markdown",
   "metadata": {},
   "source": [
    "# Task 3. Regression (with Linear Regression)"
   ]
  },
  {
   "cell_type": "markdown",
   "metadata": {},
   "source": [
    "With `insurance_benefits` as the target, evaluate what RMSE would be for a Linear Regression model."
   ]
  },
  {
   "cell_type": "markdown",
   "metadata": {},
   "source": [
    "Build your own implementation of LR. For that, recall how the linear regression task's solution is formulated in terms of LA. Check RMSE for both the original data and the scaled one. Can you see any difference in RMSE between these two cases?\n",
    "\n",
    "Let's denote\n",
    "- $X$ — feature matrix, each row is a case, each column is a feature, the first column consists of unities\n",
    "- $y$ — target (a vector)\n",
    "- $\\hat{y}$ — estimated tagret (a vector)\n",
    "- $w$ — weight vector\n",
    "\n",
    "The task of linear regression in the language of matrices can be formulated as\n",
    "\n",
    "$$\n",
    "y = Xw\n",
    "$$\n",
    "\n",
    "The training objective then is to find such $w$ that it would minimize the L2-distance (MSE) between $Xw$ and $y$:\n",
    "\n",
    "$$\n",
    "\\min_w d_2(Xw, y) \\quad \\text{or} \\quad \\min_w \\text{MSE}(Xw, y)\n",
    "$$\n",
    "\n",
    "It appears that there is analytical solution for the above:\n",
    "\n",
    "$$\n",
    "w = (X^T X)^{-1} X^T y\n",
    "$$\n",
    "\n",
    "The formula above can be used to find the weights $w$ and the latter can be used to calculate predicted values\n",
    "\n",
    "$$\n",
    "\\hat{y} = X_{val}w\n",
    "$$"
   ]
  },
  {
   "cell_type": "markdown",
   "metadata": {},
   "source": [
    "Split the whole data in the 70:30 proportion for the training/validation parts. Use the RMSE metric for the model evaluation."
   ]
  },
  {
   "cell_type": "code",
   "execution_count": 33,
   "metadata": {},
   "outputs": [],
   "source": [
    "class MyLinearRegression:\n",
    "    def __init__(self):        \n",
    "        self.weights = None\n",
    "    \n",
    "    def fit(self, X, y):\n",
    "        X2 = np.append(np.ones([len(X), 1]), X, axis=1)\n",
    "        self.weights = np.linalg.inv(X2.T.dot(X2)).dot(X2.T).dot(y)\n",
    "\n",
    "    def predict(self, X):\n",
    "        X2 = np.append(np.ones([len(X), 1]), X, axis=1)\n",
    "        y_pred = X2.dot(self.weights)\n",
    "        \n",
    "        return y_pred"
   ]
  },
  {
   "cell_type": "code",
   "execution_count": 34,
   "metadata": {},
   "outputs": [],
   "source": [
    "def eval_regressor(y_true, y_pred):\n",
    "    \n",
    "    rmse = math.sqrt(sklearn.metrics.mean_squared_error(y_true, y_pred))\n",
    "    print(f'RMSE: {rmse:.2f}')\n",
    "    \n",
    "    r2_score = math.sqrt(sklearn.metrics.r2_score(y_true, y_pred))\n",
    "    print(f'R2: {r2_score:.2f}')    "
   ]
  },
  {
   "cell_type": "markdown",
   "metadata": {},
   "source": [
    "Predicting insurance_benefits on unscaled data."
   ]
  },
  {
   "cell_type": "code",
   "execution_count": 35,
   "metadata": {},
   "outputs": [
    {
     "name": "stdout",
     "output_type": "stream",
     "text": [
      "[-9.55531621e-01  1.36770247e-02  3.62700655e-02 -1.35591572e-07\n",
      " -1.55692557e-02]\n",
      "RMSE: 0.37\n",
      "R2: 0.66\n"
     ]
    }
   ],
   "source": [
    "X = df[feature_names].to_numpy()\n",
    "y = df['insurance_benefits'].to_numpy()\n",
    "\n",
    "X_train, X_test, y_train, y_test = train_test_split(X, y, test_size=0.3, random_state=42)\n",
    "\n",
    "lr = MyLinearRegression()\n",
    "\n",
    "lr.fit(X_train, y_train)\n",
    "print(lr.weights)\n",
    "\n",
    "y_test_pred = lr.predict(X_test)\n",
    "eval_regressor(y_test, y_test_pred)"
   ]
  },
  {
   "cell_type": "markdown",
   "metadata": {},
   "source": [
    "Predicting insurance_benefits on scaled data."
   ]
  },
  {
   "cell_type": "code",
   "execution_count": 36,
   "metadata": {},
   "outputs": [
    {
     "name": "stdout",
     "output_type": "stream",
     "text": [
      "[-0.95553162  0.01367702  2.35755426 -0.01071173 -0.09341553]\n",
      "RMSE: 0.37\n",
      "R2: 0.66\n"
     ]
    }
   ],
   "source": [
    "X = df_scaled[feature_names].to_numpy()\n",
    "y = df_scaled['insurance_benefits'].to_numpy()\n",
    "\n",
    "X_scale_train, X_scale_test, y_scale_train, y_scale_test = train_test_split(X, y, test_size=0.3, random_state=42)\n",
    "\n",
    "lr_scale = MyLinearRegression()\n",
    "\n",
    "lr_scale.fit(X_scale_train, y_scale_train)\n",
    "print(lr_scale.weights)\n",
    "\n",
    "y_test_scale_pred = lr_scale.predict(X_scale_test)\n",
    "eval_regressor(y_scale_test, y_test_scale_pred)"
   ]
  },
  {
   "cell_type": "markdown",
   "metadata": {},
   "source": [
    "**Conclusion**  \n",
    "Training the Linear Regression model on both scaled and unscaled data gives us a 0.37 RMSE metric."
   ]
  },
  {
   "cell_type": "markdown",
   "metadata": {},
   "source": [
    "# Task 4. Obfuscating Data"
   ]
  },
  {
   "cell_type": "markdown",
   "metadata": {},
   "source": [
    "It best to obfuscate data by multiplying the numerical features (remember, they can be seen as the matrix $X$) by an invertible matrix $P$. \n",
    "\n",
    "$$\n",
    "X' = X \\times P\n",
    "$$\n",
    "\n",
    "Try to do that and check how the features' values will look like after the transformation. By the way, the intertible property is important here so make sure that $P$ is indeed invertible.\n",
    "\n",
    "You may want to review the 'Matrices and Matrix Operations -> Matrix Multiplication' lesson to recall the rule of matrix multiplication and its implementation with NumPy."
   ]
  },
  {
   "cell_type": "code",
   "execution_count": 37,
   "metadata": {},
   "outputs": [],
   "source": [
    "df_pn = df[feature_names]\n",
    "X = df_pn.to_numpy()"
   ]
  },
  {
   "cell_type": "markdown",
   "metadata": {},
   "source": [
    "Generating a random matrix $P$."
   ]
  },
  {
   "cell_type": "code",
   "execution_count": 38,
   "metadata": {},
   "outputs": [],
   "source": [
    "rng = np.random.default_rng(seed=42)\n",
    "P = rng.random(size=(X.shape[1], X.shape[1]))"
   ]
  },
  {
   "cell_type": "markdown",
   "metadata": {},
   "source": [
    "Checking the matrix $P$ is invertible"
   ]
  },
  {
   "cell_type": "code",
   "execution_count": 39,
   "metadata": {},
   "outputs": [
    {
     "data": {
      "text/plain": [
       "array([[ 0.41467992, -1.43783972,  0.62798546,  1.14001268],\n",
       "       [-1.06101789,  0.44219337,  0.1329549 ,  1.18425933],\n",
       "       [ 1.42362442,  1.60461607, -2.0553823 , -1.53699695],\n",
       "       [-0.11128575, -0.65813802,  1.74995517, -0.11816316]])"
      ]
     },
     "execution_count": 39,
     "metadata": {},
     "output_type": "execute_result"
    }
   ],
   "source": [
    "np.linalg.inv(P)"
   ]
  },
  {
   "cell_type": "markdown",
   "metadata": {},
   "source": [
    "Can you guess the customers' ages or income after the transformation?"
   ]
  },
  {
   "cell_type": "code",
   "execution_count": 40,
   "metadata": {},
   "outputs": [],
   "source": [
    "df_obfuscate = df_pn.dot(P)\n",
    "df_obfuscate.columns = feature_names"
   ]
  },
  {
   "cell_type": "markdown",
   "metadata": {},
   "source": [
    "Can you recover the original data from $X'$ if you know $P$? Try to check that with calculations by moving $P$ from the right side of the formula above to the left one. The rules of matrix multiplcation are really helpful here."
   ]
  },
  {
   "cell_type": "code",
   "execution_count": 41,
   "metadata": {},
   "outputs": [],
   "source": [
    "df_restored = df_obfuscate.dot(np.linalg.inv(P))\n",
    "df_restored.columns = feature_names"
   ]
  },
  {
   "cell_type": "markdown",
   "metadata": {},
   "source": [
    "Print all three cases for a few customers\n",
    "- The original data\n",
    "- The transformed one\n",
    "- The reversed (recovered) one"
   ]
  },
  {
   "cell_type": "code",
   "execution_count": 42,
   "metadata": {},
   "outputs": [
    {
     "data": {
      "text/html": [
       "<div>\n",
       "<style scoped>\n",
       "    .dataframe tbody tr th:only-of-type {\n",
       "        vertical-align: middle;\n",
       "    }\n",
       "\n",
       "    .dataframe tbody tr th {\n",
       "        vertical-align: top;\n",
       "    }\n",
       "\n",
       "    .dataframe thead th {\n",
       "        text-align: right;\n",
       "    }\n",
       "</style>\n",
       "<table border=\"1\" class=\"dataframe\">\n",
       "  <thead>\n",
       "    <tr style=\"text-align: right;\">\n",
       "      <th></th>\n",
       "      <th>gender</th>\n",
       "      <th>age</th>\n",
       "      <th>income</th>\n",
       "      <th>family_members</th>\n",
       "    </tr>\n",
       "  </thead>\n",
       "  <tbody>\n",
       "    <tr>\n",
       "      <th>0</th>\n",
       "      <td>1</td>\n",
       "      <td>41</td>\n",
       "      <td>49600.000</td>\n",
       "      <td>1</td>\n",
       "    </tr>\n",
       "    <tr>\n",
       "      <th>1</th>\n",
       "      <td>0</td>\n",
       "      <td>46</td>\n",
       "      <td>38000.000</td>\n",
       "      <td>1</td>\n",
       "    </tr>\n",
       "    <tr>\n",
       "      <th>2</th>\n",
       "      <td>0</td>\n",
       "      <td>29</td>\n",
       "      <td>21000.000</td>\n",
       "      <td>0</td>\n",
       "    </tr>\n",
       "  </tbody>\n",
       "</table>\n",
       "</div>"
      ],
      "text/plain": [
       "   gender  age    income  family_members\n",
       "0       1   41 49600.000               1\n",
       "1       0   46 38000.000               1\n",
       "2       0   29 21000.000               0"
      ]
     },
     "metadata": {},
     "output_type": "display_data"
    },
    {
     "data": {
      "text/html": [
       "<div>\n",
       "<style scoped>\n",
       "    .dataframe tbody tr th:only-of-type {\n",
       "        vertical-align: middle;\n",
       "    }\n",
       "\n",
       "    .dataframe tbody tr th {\n",
       "        vertical-align: top;\n",
       "    }\n",
       "\n",
       "    .dataframe thead th {\n",
       "        text-align: right;\n",
       "    }\n",
       "</style>\n",
       "<table border=\"1\" class=\"dataframe\">\n",
       "  <thead>\n",
       "    <tr style=\"text-align: right;\">\n",
       "      <th></th>\n",
       "      <th>gender</th>\n",
       "      <th>age</th>\n",
       "      <th>income</th>\n",
       "      <th>family_members</th>\n",
       "    </tr>\n",
       "  </thead>\n",
       "  <tbody>\n",
       "    <tr>\n",
       "      <th>0</th>\n",
       "      <td>6359.715</td>\n",
       "      <td>22380.405</td>\n",
       "      <td>18424.091</td>\n",
       "      <td>46000.697</td>\n",
       "    </tr>\n",
       "    <tr>\n",
       "      <th>1</th>\n",
       "      <td>4873.294</td>\n",
       "      <td>17160.367</td>\n",
       "      <td>14125.781</td>\n",
       "      <td>35253.456</td>\n",
       "    </tr>\n",
       "    <tr>\n",
       "      <th>2</th>\n",
       "      <td>2693.117</td>\n",
       "      <td>9486.398</td>\n",
       "      <td>7808.832</td>\n",
       "      <td>19484.861</td>\n",
       "    </tr>\n",
       "  </tbody>\n",
       "</table>\n",
       "</div>"
      ],
      "text/plain": [
       "    gender       age    income  family_members\n",
       "0 6359.715 22380.405 18424.091       46000.697\n",
       "1 4873.294 17160.367 14125.781       35253.456\n",
       "2 2693.117  9486.398  7808.832       19484.861"
      ]
     },
     "metadata": {},
     "output_type": "display_data"
    },
    {
     "data": {
      "text/html": [
       "<div>\n",
       "<style scoped>\n",
       "    .dataframe tbody tr th:only-of-type {\n",
       "        vertical-align: middle;\n",
       "    }\n",
       "\n",
       "    .dataframe tbody tr th {\n",
       "        vertical-align: top;\n",
       "    }\n",
       "\n",
       "    .dataframe thead th {\n",
       "        text-align: right;\n",
       "    }\n",
       "</style>\n",
       "<table border=\"1\" class=\"dataframe\">\n",
       "  <thead>\n",
       "    <tr style=\"text-align: right;\">\n",
       "      <th></th>\n",
       "      <th>gender</th>\n",
       "      <th>age</th>\n",
       "      <th>income</th>\n",
       "      <th>family_members</th>\n",
       "    </tr>\n",
       "  </thead>\n",
       "  <tbody>\n",
       "    <tr>\n",
       "      <th>0</th>\n",
       "      <td>1.000</td>\n",
       "      <td>41.000</td>\n",
       "      <td>49600.000</td>\n",
       "      <td>1.000</td>\n",
       "    </tr>\n",
       "    <tr>\n",
       "      <th>1</th>\n",
       "      <td>-0.000</td>\n",
       "      <td>46.000</td>\n",
       "      <td>38000.000</td>\n",
       "      <td>1.000</td>\n",
       "    </tr>\n",
       "    <tr>\n",
       "      <th>2</th>\n",
       "      <td>-0.000</td>\n",
       "      <td>29.000</td>\n",
       "      <td>21000.000</td>\n",
       "      <td>0.000</td>\n",
       "    </tr>\n",
       "  </tbody>\n",
       "</table>\n",
       "</div>"
      ],
      "text/plain": [
       "   gender    age    income  family_members\n",
       "0   1.000 41.000 49600.000           1.000\n",
       "1  -0.000 46.000 38000.000           1.000\n",
       "2  -0.000 29.000 21000.000           0.000"
      ]
     },
     "metadata": {},
     "output_type": "display_data"
    }
   ],
   "source": [
    "display(df_pn.head(3))\n",
    "display(df_obfuscate.head(3))\n",
    "display(df_restored.head(3))"
   ]
  },
  {
   "cell_type": "markdown",
   "metadata": {},
   "source": [
    "You can probably see that some values are not exactly the same as they are in the original data. What might be the reason for that?"
   ]
  },
  {
   "cell_type": "markdown",
   "metadata": {},
   "source": [
    "**Conclusion**  \n",
    "Obfuscating and restoring sensitive data gives us the same values, but they all are of float data type. So instead of 0 in `gender,` we see -0.000."
   ]
  },
  {
   "cell_type": "markdown",
   "metadata": {},
   "source": [
    "## Proof That Data Obfuscation Can Work with LR"
   ]
  },
  {
   "cell_type": "markdown",
   "metadata": {},
   "source": [
    "The regression task has been solved with linear regression in this project. Your next task is to prove _analytically_ that the given obfuscation method won't affect linear regression in terms of predicted values i.e. their values will remain the same. Can you believe that? Well, you don't have to, you should prove it!"
   ]
  },
  {
   "cell_type": "markdown",
   "metadata": {},
   "source": [
    "So, the data is obfuscated and there is $X \\times P$ instead of just $X$ now. Consequently, there are other weights $w_P$ as\n",
    "$$\n",
    "w = (X^T X)^{-1} X^T y \\quad \\Rightarrow \\quad w_P = [(XP)^T XP]^{-1} (XP)^T y\n",
    "$$\n",
    "\n",
    "How would $w$ and $w_P$ be linked if you simplify the formula for $w_P$ above? \n",
    "\n",
    "What would be predicted values with $w_P$? \n",
    "\n",
    "What does that mean for the quality of linear regression if you measure it with RMSE?\n",
    "\n",
    "Check Appendix B Properties of Matrices in the end of the notebook. There are useful formulas in there!\n",
    "\n",
    "No code is necessary in this section, only analytical explanation!"
   ]
  },
  {
   "cell_type": "markdown",
   "metadata": {},
   "source": [
    "**Answer**"
   ]
  },
  {
   "cell_type": "markdown",
   "metadata": {},
   "source": [
    "$w = (X^T X)^{-1} X^T y $\n",
    "\n",
    "$w_P = [(XP)^T XP]^{-1} (XP)^T y = P^{-1}[P^T X^T X]^{-1} P^T X^T y  = P^{-1} (X^T X)^{-1} P^{-T} P^T X^T y = P^{-1} (X^T X)^{-1} (P^{-1} P)^T X^T y = P^{-1} (X^T X)^{-1} X^T y $\n"
   ]
  },
  {
   "cell_type": "markdown",
   "metadata": {},
   "source": [
    "**Analytical proof**"
   ]
  },
  {
   "cell_type": "markdown",
   "metadata": {},
   "source": [
    "$y = X w$  \n",
    "$y = X P w_P $  \n",
    "\n",
    "$X (X^T X)^{-1} X^T y = X P P^{-1} (X^T X)^{-1} X^T y$  \n",
    "$X (X^T X)^{-1} X^T y = X (X^T X)^{-1} X^T y$"
   ]
  },
  {
   "cell_type": "markdown",
   "metadata": {},
   "source": [
    "**Conclusion**  \n",
    "Obfuscating the features doesn't affect the target, and the quality of the regression model will be the same."
   ]
  },
  {
   "cell_type": "markdown",
   "metadata": {},
   "source": [
    "## Test Linear Regression With Data Obfuscation"
   ]
  },
  {
   "cell_type": "markdown",
   "metadata": {},
   "source": [
    "Now, let's prove Linear Regression can work computationally with the chosen obfuscation transformation.\n",
    "\n",
    "Build a procedure or a class that runs Linear Regression optionally with the obfuscation. You can use either a ready implementation of Linear Regression from sciki-learn or your own.\n",
    "\n",
    "Run Linear Regression for the original data and the obfuscated one, compare the predicted values and the RMSE, $R^2$ metric values. Is there any difference?"
   ]
  },
  {
   "cell_type": "markdown",
   "metadata": {},
   "source": [
    "**Procedure**\n",
    "\n",
    "- Create a square matrix $P$ of random numbers.\n",
    "- Check that it is invertible. If not, repeat the first point until we get an invertible matrix.\n",
    "- <! your comment here !>\n",
    "- Use $XP$ as the new feature matrix"
   ]
  },
  {
   "cell_type": "code",
   "execution_count": 43,
   "metadata": {},
   "outputs": [],
   "source": [
    "def get_regression(X, y, obfuscate = False):\n",
    "    \n",
    "    \"\"\"\n",
    "    Run linear regression with or without obfuscation \n",
    "\n",
    "    :param df: pandas DataFrame \n",
    "    :param obfuscate: flag for obfuscation\n",
    "    \"\"\"\n",
    "    if obfuscate:\n",
    "        print('Obfuscated data')\n",
    "        while(True):\n",
    "            try:\n",
    "                P = rng.random(size=(X.shape[1], X.shape[1]))\n",
    "                np.linalg.inv(P)\n",
    "                break\n",
    "            except:\n",
    "                continue        \n",
    "        X = X.dot(P)\n",
    "    else:\n",
    "        print('Raw data')\n",
    "    X_scale_train, X_scale_test, y_scale_train, y_scale_test = train_test_split(X, y,\\\n",
    "                                                            test_size=0.3, random_state=42)\n",
    "\n",
    "    lr = sklearn.linear_model.LinearRegression()\n",
    "    lr.fit(X_scale_train, y_scale_train)\n",
    "\n",
    "    y_test_scale_pred = lr.predict(X_scale_test)\n",
    "    print (y_test_scale_pred[:5])    \n",
    "\n",
    "    eval_regressor(y_scale_test, y_test_scale_pred)"
   ]
  },
  {
   "cell_type": "code",
   "execution_count": 44,
   "metadata": {},
   "outputs": [
    {
     "name": "stdout",
     "output_type": "stream",
     "text": [
      "Raw data\n",
      "[ 0.66879019 -0.01916141 -0.15066561  0.18575822  0.19835051]\n",
      "RMSE: 0.37\n",
      "R2: 0.66\n",
      "\n",
      "Obfuscated data\n",
      "[ 0.66879019 -0.01916141 -0.15066561  0.18575822  0.19835051]\n",
      "RMSE: 0.37\n",
      "R2: 0.66\n"
     ]
    }
   ],
   "source": [
    "X = df_scaled[feature_names].to_numpy()\n",
    "y = df_scaled['insurance_benefits'].to_numpy()\n",
    "\n",
    "get_regression(X, y, )\n",
    "print()\n",
    "get_regression(X, y, True)"
   ]
  },
  {
   "cell_type": "markdown",
   "metadata": {},
   "source": [
    "**Conclusion**  \n",
    "We got the same target with the given features and obfuscated ones."
   ]
  },
  {
   "cell_type": "markdown",
   "metadata": {},
   "source": [
    "# Conclusions"
   ]
  },
  {
   "cell_type": "markdown",
   "metadata": {},
   "source": [
    "Using some data on the insurance customers, we explored several tasks: \n",
    "1. Classification of customers using the KNN method with different distance metrics. We saw that scaling is necessary for this algorithm.\n",
    "2. Predicting if `insurance_benefits` is more than zero like a binary classification task; KNN gives much better results than a dummy model.\n",
    "3. Prediction of insurance benefits number with a linear regression model.\n",
    "4. Exploring the possibilities of data obfuscation for the regression model. We ensured that the masked data gave the same result as the raw."
   ]
  }
 ],
 "metadata": {
  "ExecuteTimeLog": [
   {
    "duration": 5459,
    "start_time": "2022-05-11T07:32:14.361Z"
   },
   {
    "duration": 2389,
    "start_time": "2022-05-11T07:32:19.823Z"
   },
   {
    "duration": 5404,
    "start_time": "2022-05-11T07:33:04.716Z"
   },
   {
    "duration": 4,
    "start_time": "2022-05-11T07:33:17.910Z"
   },
   {
    "duration": 74,
    "start_time": "2022-05-11T07:33:38.916Z"
   },
   {
    "duration": 14,
    "start_time": "2022-05-11T07:34:41.837Z"
   },
   {
    "duration": 5,
    "start_time": "2022-05-11T07:34:44.876Z"
   },
   {
    "duration": 14,
    "start_time": "2022-05-11T07:34:46.925Z"
   },
   {
    "duration": 13,
    "start_time": "2022-05-11T07:34:50.107Z"
   },
   {
    "duration": 128,
    "start_time": "2022-05-11T08:02:48.470Z"
   },
   {
    "duration": 4,
    "start_time": "2022-05-11T08:03:12.986Z"
   },
   {
    "duration": 11,
    "start_time": "2022-05-11T08:03:14.859Z"
   },
   {
    "duration": 12,
    "start_time": "2022-05-11T08:03:42.957Z"
   },
   {
    "duration": 3,
    "start_time": "2022-05-11T08:04:05.773Z"
   },
   {
    "duration": 4,
    "start_time": "2022-05-11T08:05:44.450Z"
   },
   {
    "duration": 11,
    "start_time": "2022-05-11T08:05:49.591Z"
   },
   {
    "duration": 3,
    "start_time": "2022-05-11T08:06:36.718Z"
   },
   {
    "duration": 11,
    "start_time": "2022-05-11T08:06:44.106Z"
   },
   {
    "duration": 2,
    "start_time": "2022-05-11T08:06:54.971Z"
   },
   {
    "duration": 3,
    "start_time": "2022-05-11T08:07:15.207Z"
   },
   {
    "duration": 22,
    "start_time": "2022-05-11T08:07:17.575Z"
   },
   {
    "duration": 3855,
    "start_time": "2022-05-11T08:11:44.612Z"
   },
   {
    "duration": 8,
    "start_time": "2022-05-11T08:16:09.899Z"
   },
   {
    "duration": 6,
    "start_time": "2022-05-11T08:17:48.155Z"
   },
   {
    "duration": 7,
    "start_time": "2022-05-11T08:17:50.882Z"
   },
   {
    "duration": 4035,
    "start_time": "2022-05-11T08:19:38.322Z"
   },
   {
    "duration": 77,
    "start_time": "2022-05-11T08:19:42.360Z"
   },
   {
    "duration": 1815,
    "start_time": "2022-05-11T08:19:42.439Z"
   },
   {
    "duration": 20,
    "start_time": "2022-05-11T08:19:44.258Z"
   },
   {
    "duration": 31,
    "start_time": "2022-05-11T08:19:44.280Z"
   },
   {
    "duration": 19,
    "start_time": "2022-05-11T08:19:44.313Z"
   },
   {
    "duration": 43,
    "start_time": "2022-05-11T08:19:44.335Z"
   },
   {
    "duration": 25,
    "start_time": "2022-05-11T08:19:44.381Z"
   },
   {
    "duration": 21,
    "start_time": "2022-05-11T08:19:44.409Z"
   },
   {
    "duration": 22,
    "start_time": "2022-05-11T08:19:44.434Z"
   },
   {
    "duration": 46,
    "start_time": "2022-05-11T08:19:44.459Z"
   },
   {
    "duration": 9,
    "start_time": "2022-05-11T08:20:13.992Z"
   },
   {
    "duration": 9,
    "start_time": "2022-05-11T08:20:22.251Z"
   },
   {
    "duration": 8,
    "start_time": "2022-05-11T08:21:15.527Z"
   },
   {
    "duration": 7,
    "start_time": "2022-05-11T08:21:25.547Z"
   },
   {
    "duration": 152,
    "start_time": "2022-05-11T08:21:45.571Z"
   },
   {
    "duration": 7,
    "start_time": "2022-05-11T08:21:56.341Z"
   },
   {
    "duration": 9,
    "start_time": "2022-05-11T08:22:18.182Z"
   },
   {
    "duration": 9,
    "start_time": "2022-05-11T08:22:51.098Z"
   },
   {
    "duration": 13,
    "start_time": "2022-05-11T08:22:57.294Z"
   },
   {
    "duration": 7,
    "start_time": "2022-05-11T08:23:39.884Z"
   },
   {
    "duration": 178,
    "start_time": "2022-05-11T08:24:28.605Z"
   },
   {
    "duration": 5383,
    "start_time": "2022-05-11T08:24:42.392Z"
   },
   {
    "duration": 5,
    "start_time": "2022-05-11T08:43:53.657Z"
   },
   {
    "duration": 171,
    "start_time": "2022-05-11T08:45:36.705Z"
   },
   {
    "duration": 5,
    "start_time": "2022-05-11T08:46:42.595Z"
   },
   {
    "duration": 6,
    "start_time": "2022-05-11T08:46:48.874Z"
   },
   {
    "duration": 125,
    "start_time": "2022-05-11T08:47:11.416Z"
   },
   {
    "duration": 4,
    "start_time": "2022-05-11T08:47:35.924Z"
   },
   {
    "duration": 4,
    "start_time": "2022-05-11T08:47:41.305Z"
   },
   {
    "duration": 4,
    "start_time": "2022-05-11T08:49:49.247Z"
   },
   {
    "duration": 12,
    "start_time": "2022-05-11T08:49:52.318Z"
   },
   {
    "duration": 10,
    "start_time": "2022-05-11T08:49:54.878Z"
   },
   {
    "duration": 14,
    "start_time": "2022-05-11T08:52:02.603Z"
   },
   {
    "duration": 5,
    "start_time": "2022-05-11T08:52:22.185Z"
   },
   {
    "duration": 14,
    "start_time": "2022-05-11T08:52:25.626Z"
   },
   {
    "duration": 4,
    "start_time": "2022-05-11T08:52:52.019Z"
   },
   {
    "duration": 19,
    "start_time": "2022-05-11T08:52:54.553Z"
   },
   {
    "duration": 4,
    "start_time": "2022-05-11T08:53:18.650Z"
   },
   {
    "duration": 5,
    "start_time": "2022-05-11T08:53:24.206Z"
   },
   {
    "duration": 31,
    "start_time": "2022-05-11T08:53:24.874Z"
   },
   {
    "duration": 23,
    "start_time": "2022-05-11T08:53:52.887Z"
   },
   {
    "duration": 5,
    "start_time": "2022-05-11T08:54:35.489Z"
   },
   {
    "duration": 42,
    "start_time": "2022-05-11T08:54:37.658Z"
   },
   {
    "duration": 5,
    "start_time": "2022-05-11T08:55:20.771Z"
   },
   {
    "duration": 32,
    "start_time": "2022-05-11T08:55:24.199Z"
   },
   {
    "duration": 44,
    "start_time": "2022-05-11T08:55:36.137Z"
   },
   {
    "duration": 27,
    "start_time": "2022-05-11T08:56:06.879Z"
   },
   {
    "duration": 5,
    "start_time": "2022-05-11T08:56:20.350Z"
   },
   {
    "duration": 25,
    "start_time": "2022-05-11T08:56:22.561Z"
   },
   {
    "duration": 18,
    "start_time": "2022-05-11T08:59:07.433Z"
   },
   {
    "duration": 6,
    "start_time": "2022-05-11T08:59:22.318Z"
   },
   {
    "duration": 20,
    "start_time": "2022-05-11T08:59:24.898Z"
   },
   {
    "duration": 15,
    "start_time": "2022-05-11T10:54:41.668Z"
   },
   {
    "duration": 15,
    "start_time": "2022-05-11T10:54:44.092Z"
   },
   {
    "duration": 15,
    "start_time": "2022-05-11T10:55:00.072Z"
   },
   {
    "duration": 14,
    "start_time": "2022-05-11T10:55:03.576Z"
   },
   {
    "duration": 16,
    "start_time": "2022-05-11T10:58:47.893Z"
   },
   {
    "duration": 14,
    "start_time": "2022-05-11T10:58:56.187Z"
   },
   {
    "duration": 5,
    "start_time": "2022-05-11T10:59:20.507Z"
   },
   {
    "duration": 15,
    "start_time": "2022-05-11T10:59:23.458Z"
   },
   {
    "duration": 5,
    "start_time": "2022-05-11T11:01:31.469Z"
   },
   {
    "duration": 21,
    "start_time": "2022-05-11T11:01:35.753Z"
   },
   {
    "duration": 4,
    "start_time": "2022-05-11T11:02:52.098Z"
   },
   {
    "duration": 4,
    "start_time": "2022-05-11T11:03:00.552Z"
   },
   {
    "duration": 17,
    "start_time": "2022-05-11T11:03:03.010Z"
   },
   {
    "duration": 5,
    "start_time": "2022-05-11T11:04:06.002Z"
   },
   {
    "duration": 25,
    "start_time": "2022-05-11T11:04:08.386Z"
   },
   {
    "duration": 3,
    "start_time": "2022-05-11T11:05:14.175Z"
   },
   {
    "duration": 4210,
    "start_time": "2022-05-11T11:07:00.368Z"
   },
   {
    "duration": 76,
    "start_time": "2022-05-11T11:07:04.580Z"
   },
   {
    "duration": 1636,
    "start_time": "2022-05-11T11:07:04.658Z"
   },
   {
    "duration": 20,
    "start_time": "2022-05-11T11:07:06.297Z"
   },
   {
    "duration": 42,
    "start_time": "2022-05-11T11:07:06.319Z"
   },
   {
    "duration": 7,
    "start_time": "2022-05-11T11:07:06.363Z"
   },
   {
    "duration": 44,
    "start_time": "2022-05-11T11:07:06.372Z"
   },
   {
    "duration": 31,
    "start_time": "2022-05-11T11:07:06.418Z"
   },
   {
    "duration": 23,
    "start_time": "2022-05-11T11:07:06.451Z"
   },
   {
    "duration": 33,
    "start_time": "2022-05-11T11:07:06.477Z"
   },
   {
    "duration": 47,
    "start_time": "2022-05-11T11:07:06.512Z"
   },
   {
    "duration": 19,
    "start_time": "2022-05-11T11:07:06.561Z"
   },
   {
    "duration": 183,
    "start_time": "2022-05-11T11:07:06.582Z"
   },
   {
    "duration": 0,
    "start_time": "2022-05-11T11:07:06.767Z"
   },
   {
    "duration": 0,
    "start_time": "2022-05-11T11:07:06.769Z"
   },
   {
    "duration": 0,
    "start_time": "2022-05-11T11:07:06.770Z"
   },
   {
    "duration": 0,
    "start_time": "2022-05-11T11:07:06.771Z"
   },
   {
    "duration": 0,
    "start_time": "2022-05-11T11:07:06.772Z"
   },
   {
    "duration": 6,
    "start_time": "2022-05-11T11:08:45.410Z"
   },
   {
    "duration": 7,
    "start_time": "2022-05-11T11:08:57.157Z"
   },
   {
    "duration": 4272,
    "start_time": "2022-05-11T11:09:00.831Z"
   },
   {
    "duration": 3,
    "start_time": "2022-05-11T11:09:05.105Z"
   },
   {
    "duration": 13,
    "start_time": "2022-05-11T11:09:09.654Z"
   },
   {
    "duration": 9,
    "start_time": "2022-05-11T11:09:10.571Z"
   },
   {
    "duration": 4,
    "start_time": "2022-05-11T11:09:11.228Z"
   },
   {
    "duration": 14,
    "start_time": "2022-05-11T11:09:13.091Z"
   },
   {
    "duration": 14,
    "start_time": "2022-05-11T11:09:14.970Z"
   },
   {
    "duration": 14,
    "start_time": "2022-05-11T11:09:16.664Z"
   },
   {
    "duration": 14,
    "start_time": "2022-05-11T11:09:18.211Z"
   },
   {
    "duration": 5,
    "start_time": "2022-05-11T11:10:55.436Z"
   },
   {
    "duration": 14,
    "start_time": "2022-05-11T11:10:57.321Z"
   },
   {
    "duration": 14,
    "start_time": "2022-05-11T11:10:58.227Z"
   },
   {
    "duration": 15,
    "start_time": "2022-05-11T11:10:58.865Z"
   },
   {
    "duration": 14,
    "start_time": "2022-05-11T11:10:59.439Z"
   },
   {
    "duration": 15,
    "start_time": "2022-05-11T11:11:44.339Z"
   },
   {
    "duration": 15,
    "start_time": "2022-05-11T11:11:46.224Z"
   },
   {
    "duration": 15,
    "start_time": "2022-05-11T11:11:47.380Z"
   },
   {
    "duration": 18,
    "start_time": "2022-05-11T11:11:48.008Z"
   },
   {
    "duration": 2770,
    "start_time": "2022-05-11T11:13:18.888Z"
   },
   {
    "duration": 67,
    "start_time": "2022-05-11T11:13:21.660Z"
   },
   {
    "duration": 4,
    "start_time": "2022-05-11T11:13:21.729Z"
   },
   {
    "duration": 48,
    "start_time": "2022-05-11T11:13:21.735Z"
   },
   {
    "duration": 29,
    "start_time": "2022-05-11T11:13:21.784Z"
   },
   {
    "duration": 23,
    "start_time": "2022-05-11T11:13:21.814Z"
   },
   {
    "duration": 30,
    "start_time": "2022-05-11T11:13:21.839Z"
   },
   {
    "duration": 24,
    "start_time": "2022-05-11T11:13:21.871Z"
   },
   {
    "duration": 28,
    "start_time": "2022-05-11T11:13:21.897Z"
   },
   {
    "duration": 32,
    "start_time": "2022-05-11T11:13:21.928Z"
   },
   {
    "duration": 39,
    "start_time": "2022-05-11T11:13:21.962Z"
   },
   {
    "duration": 27,
    "start_time": "2022-05-11T11:13:22.003Z"
   },
   {
    "duration": 26,
    "start_time": "2022-05-11T11:13:22.031Z"
   },
   {
    "duration": 3686,
    "start_time": "2022-05-11T11:13:22.059Z"
   },
   {
    "duration": 3,
    "start_time": "2022-05-11T11:13:25.754Z"
   },
   {
    "duration": 14,
    "start_time": "2022-05-11T11:13:25.759Z"
   },
   {
    "duration": 8,
    "start_time": "2022-05-11T11:13:25.775Z"
   },
   {
    "duration": 4,
    "start_time": "2022-05-11T11:13:25.785Z"
   },
   {
    "duration": 20,
    "start_time": "2022-05-11T11:13:25.791Z"
   },
   {
    "duration": 13,
    "start_time": "2022-05-11T11:13:25.812Z"
   },
   {
    "duration": 38,
    "start_time": "2022-05-11T11:13:25.827Z"
   },
   {
    "duration": 18,
    "start_time": "2022-05-11T11:13:37.240Z"
   },
   {
    "duration": 16987,
    "start_time": "2022-05-14T11:50:35.967Z"
   },
   {
    "duration": 58,
    "start_time": "2022-05-14T11:50:52.957Z"
   },
   {
    "duration": 1926,
    "start_time": "2022-05-14T11:50:53.018Z"
   },
   {
    "duration": 0,
    "start_time": "2022-05-14T11:50:54.951Z"
   },
   {
    "duration": 0,
    "start_time": "2022-05-14T11:50:54.953Z"
   },
   {
    "duration": 0,
    "start_time": "2022-05-14T11:50:54.955Z"
   },
   {
    "duration": 0,
    "start_time": "2022-05-14T11:50:54.957Z"
   },
   {
    "duration": 0,
    "start_time": "2022-05-14T11:50:54.959Z"
   },
   {
    "duration": 0,
    "start_time": "2022-05-14T11:50:54.961Z"
   },
   {
    "duration": 0,
    "start_time": "2022-05-14T11:50:54.982Z"
   },
   {
    "duration": 0,
    "start_time": "2022-05-14T11:50:54.985Z"
   },
   {
    "duration": 0,
    "start_time": "2022-05-14T11:50:54.987Z"
   },
   {
    "duration": 0,
    "start_time": "2022-05-14T11:50:54.990Z"
   },
   {
    "duration": 0,
    "start_time": "2022-05-14T11:50:54.992Z"
   },
   {
    "duration": 0,
    "start_time": "2022-05-14T11:50:54.994Z"
   },
   {
    "duration": 0,
    "start_time": "2022-05-14T11:50:54.996Z"
   },
   {
    "duration": 0,
    "start_time": "2022-05-14T11:50:55.000Z"
   },
   {
    "duration": 0,
    "start_time": "2022-05-14T11:50:55.002Z"
   },
   {
    "duration": 0,
    "start_time": "2022-05-14T11:50:55.005Z"
   },
   {
    "duration": 0,
    "start_time": "2022-05-14T11:50:55.007Z"
   },
   {
    "duration": 0,
    "start_time": "2022-05-14T11:50:55.009Z"
   },
   {
    "duration": 0,
    "start_time": "2022-05-14T11:50:55.012Z"
   },
   {
    "duration": 0,
    "start_time": "2022-05-14T11:50:55.013Z"
   },
   {
    "duration": 0,
    "start_time": "2022-05-14T11:50:55.016Z"
   },
   {
    "duration": 0,
    "start_time": "2022-05-14T11:50:55.081Z"
   },
   {
    "duration": 0,
    "start_time": "2022-05-14T11:50:55.083Z"
   },
   {
    "duration": 0,
    "start_time": "2022-05-14T11:50:55.086Z"
   },
   {
    "duration": 0,
    "start_time": "2022-05-14T11:50:55.089Z"
   },
   {
    "duration": 0,
    "start_time": "2022-05-14T11:50:55.091Z"
   },
   {
    "duration": 0,
    "start_time": "2022-05-14T11:50:55.093Z"
   },
   {
    "duration": 0,
    "start_time": "2022-05-14T11:50:55.095Z"
   },
   {
    "duration": 0,
    "start_time": "2022-05-14T11:50:55.097Z"
   },
   {
    "duration": 1,
    "start_time": "2022-05-14T11:50:55.099Z"
   },
   {
    "duration": 0,
    "start_time": "2022-05-14T11:50:55.102Z"
   },
   {
    "duration": 0,
    "start_time": "2022-05-14T11:50:55.104Z"
   },
   {
    "duration": 0,
    "start_time": "2022-05-14T11:50:55.106Z"
   },
   {
    "duration": 0,
    "start_time": "2022-05-14T11:50:55.109Z"
   },
   {
    "duration": 0,
    "start_time": "2022-05-14T11:50:55.111Z"
   },
   {
    "duration": 0,
    "start_time": "2022-05-14T11:50:55.113Z"
   },
   {
    "duration": 0,
    "start_time": "2022-05-14T11:50:55.115Z"
   },
   {
    "duration": 0,
    "start_time": "2022-05-14T11:50:55.117Z"
   },
   {
    "duration": 0,
    "start_time": "2022-05-14T11:50:55.119Z"
   },
   {
    "duration": 0,
    "start_time": "2022-05-14T11:50:55.183Z"
   },
   {
    "duration": 0,
    "start_time": "2022-05-14T11:50:55.185Z"
   },
   {
    "duration": 8159,
    "start_time": "2022-05-14T11:51:58.756Z"
   },
   {
    "duration": 152,
    "start_time": "2022-05-14T11:52:19.632Z"
   },
   {
    "duration": 8228,
    "start_time": "2022-05-14T11:52:29.216Z"
   },
   {
    "duration": 8510,
    "start_time": "2022-05-14T11:52:40.139Z"
   },
   {
    "duration": 8438,
    "start_time": "2022-05-14T11:52:58.330Z"
   },
   {
    "duration": 3817,
    "start_time": "2022-05-14T11:54:00.283Z"
   },
   {
    "duration": 107,
    "start_time": "2022-05-14T11:54:08.371Z"
   },
   {
    "duration": 110,
    "start_time": "2022-05-14T11:54:26.571Z"
   },
   {
    "duration": 137,
    "start_time": "2022-05-14T11:54:38.223Z"
   },
   {
    "duration": 3547,
    "start_time": "2022-05-14T11:54:48.203Z"
   },
   {
    "duration": 3950,
    "start_time": "2022-05-14T11:54:55.987Z"
   },
   {
    "duration": 4009,
    "start_time": "2022-05-14T11:55:01.373Z"
   },
   {
    "duration": 105,
    "start_time": "2022-05-14T11:55:08.592Z"
   },
   {
    "duration": 4028,
    "start_time": "2022-05-14T11:56:01.486Z"
   },
   {
    "duration": 3534,
    "start_time": "2022-05-14T11:56:05.517Z"
   },
   {
    "duration": 67,
    "start_time": "2022-05-14T11:56:09.054Z"
   },
   {
    "duration": 1820,
    "start_time": "2022-05-14T11:56:09.124Z"
   },
   {
    "duration": 0,
    "start_time": "2022-05-14T11:56:10.948Z"
   },
   {
    "duration": 0,
    "start_time": "2022-05-14T11:56:10.949Z"
   },
   {
    "duration": 0,
    "start_time": "2022-05-14T11:56:10.951Z"
   },
   {
    "duration": 0,
    "start_time": "2022-05-14T11:56:10.952Z"
   },
   {
    "duration": 0,
    "start_time": "2022-05-14T11:56:10.954Z"
   },
   {
    "duration": 0,
    "start_time": "2022-05-14T11:56:10.956Z"
   },
   {
    "duration": 0,
    "start_time": "2022-05-14T11:56:10.957Z"
   },
   {
    "duration": 0,
    "start_time": "2022-05-14T11:56:10.959Z"
   },
   {
    "duration": 0,
    "start_time": "2022-05-14T11:56:10.960Z"
   },
   {
    "duration": 0,
    "start_time": "2022-05-14T11:56:10.982Z"
   },
   {
    "duration": 0,
    "start_time": "2022-05-14T11:56:10.983Z"
   },
   {
    "duration": 0,
    "start_time": "2022-05-14T11:56:10.985Z"
   },
   {
    "duration": 0,
    "start_time": "2022-05-14T11:56:10.986Z"
   },
   {
    "duration": 0,
    "start_time": "2022-05-14T11:56:10.988Z"
   },
   {
    "duration": 0,
    "start_time": "2022-05-14T11:56:10.990Z"
   },
   {
    "duration": 0,
    "start_time": "2022-05-14T11:56:10.991Z"
   },
   {
    "duration": 0,
    "start_time": "2022-05-14T11:56:10.993Z"
   },
   {
    "duration": 0,
    "start_time": "2022-05-14T11:56:10.994Z"
   },
   {
    "duration": 0,
    "start_time": "2022-05-14T11:56:10.996Z"
   },
   {
    "duration": 0,
    "start_time": "2022-05-14T11:56:10.997Z"
   },
   {
    "duration": 0,
    "start_time": "2022-05-14T11:56:10.999Z"
   },
   {
    "duration": 0,
    "start_time": "2022-05-14T11:56:11.000Z"
   },
   {
    "duration": 0,
    "start_time": "2022-05-14T11:56:11.002Z"
   },
   {
    "duration": 0,
    "start_time": "2022-05-14T11:56:11.003Z"
   },
   {
    "duration": 0,
    "start_time": "2022-05-14T11:56:11.005Z"
   },
   {
    "duration": 0,
    "start_time": "2022-05-14T11:56:11.006Z"
   },
   {
    "duration": 0,
    "start_time": "2022-05-14T11:56:11.008Z"
   },
   {
    "duration": 0,
    "start_time": "2022-05-14T11:56:11.009Z"
   },
   {
    "duration": 0,
    "start_time": "2022-05-14T11:56:11.011Z"
   },
   {
    "duration": 0,
    "start_time": "2022-05-14T11:56:11.013Z"
   },
   {
    "duration": 0,
    "start_time": "2022-05-14T11:56:11.015Z"
   },
   {
    "duration": 0,
    "start_time": "2022-05-14T11:56:11.016Z"
   },
   {
    "duration": 0,
    "start_time": "2022-05-14T11:56:11.017Z"
   },
   {
    "duration": 0,
    "start_time": "2022-05-14T11:56:11.019Z"
   },
   {
    "duration": 0,
    "start_time": "2022-05-14T11:56:11.081Z"
   },
   {
    "duration": 0,
    "start_time": "2022-05-14T11:56:11.083Z"
   },
   {
    "duration": 0,
    "start_time": "2022-05-14T11:56:11.085Z"
   },
   {
    "duration": 0,
    "start_time": "2022-05-14T11:56:11.086Z"
   },
   {
    "duration": 0,
    "start_time": "2022-05-14T11:56:11.088Z"
   },
   {
    "duration": 0,
    "start_time": "2022-05-14T11:56:11.089Z"
   },
   {
    "duration": 0,
    "start_time": "2022-05-14T11:56:11.090Z"
   },
   {
    "duration": 4003,
    "start_time": "2022-05-14T11:56:44.193Z"
   },
   {
    "duration": 3555,
    "start_time": "2022-05-14T11:56:48.200Z"
   },
   {
    "duration": 82,
    "start_time": "2022-05-14T11:56:51.758Z"
   },
   {
    "duration": 1998,
    "start_time": "2022-05-14T11:56:51.844Z"
   },
   {
    "duration": 0,
    "start_time": "2022-05-14T11:56:53.847Z"
   },
   {
    "duration": 0,
    "start_time": "2022-05-14T11:56:53.849Z"
   },
   {
    "duration": 0,
    "start_time": "2022-05-14T11:56:53.851Z"
   },
   {
    "duration": 0,
    "start_time": "2022-05-14T11:56:53.853Z"
   },
   {
    "duration": 0,
    "start_time": "2022-05-14T11:56:53.855Z"
   },
   {
    "duration": 0,
    "start_time": "2022-05-14T11:56:53.857Z"
   },
   {
    "duration": 0,
    "start_time": "2022-05-14T11:56:53.859Z"
   },
   {
    "duration": 0,
    "start_time": "2022-05-14T11:56:53.882Z"
   },
   {
    "duration": 0,
    "start_time": "2022-05-14T11:56:53.884Z"
   },
   {
    "duration": 0,
    "start_time": "2022-05-14T11:56:53.886Z"
   },
   {
    "duration": 0,
    "start_time": "2022-05-14T11:56:53.888Z"
   },
   {
    "duration": 0,
    "start_time": "2022-05-14T11:56:53.890Z"
   },
   {
    "duration": 0,
    "start_time": "2022-05-14T11:56:53.892Z"
   },
   {
    "duration": 0,
    "start_time": "2022-05-14T11:56:53.894Z"
   },
   {
    "duration": 0,
    "start_time": "2022-05-14T11:56:53.896Z"
   },
   {
    "duration": 0,
    "start_time": "2022-05-14T11:56:53.898Z"
   },
   {
    "duration": 0,
    "start_time": "2022-05-14T11:56:53.900Z"
   },
   {
    "duration": 0,
    "start_time": "2022-05-14T11:56:53.902Z"
   },
   {
    "duration": 0,
    "start_time": "2022-05-14T11:56:53.903Z"
   },
   {
    "duration": 0,
    "start_time": "2022-05-14T11:56:53.905Z"
   },
   {
    "duration": 0,
    "start_time": "2022-05-14T11:56:53.907Z"
   },
   {
    "duration": 0,
    "start_time": "2022-05-14T11:56:53.908Z"
   },
   {
    "duration": 0,
    "start_time": "2022-05-14T11:56:53.910Z"
   },
   {
    "duration": 0,
    "start_time": "2022-05-14T11:56:53.912Z"
   },
   {
    "duration": 0,
    "start_time": "2022-05-14T11:56:53.913Z"
   },
   {
    "duration": 0,
    "start_time": "2022-05-14T11:56:53.914Z"
   },
   {
    "duration": 0,
    "start_time": "2022-05-14T11:56:53.916Z"
   },
   {
    "duration": 0,
    "start_time": "2022-05-14T11:56:53.917Z"
   },
   {
    "duration": 0,
    "start_time": "2022-05-14T11:56:53.919Z"
   },
   {
    "duration": 0,
    "start_time": "2022-05-14T11:56:53.982Z"
   },
   {
    "duration": 0,
    "start_time": "2022-05-14T11:56:53.984Z"
   },
   {
    "duration": 0,
    "start_time": "2022-05-14T11:56:53.986Z"
   },
   {
    "duration": 0,
    "start_time": "2022-05-14T11:56:53.987Z"
   },
   {
    "duration": 0,
    "start_time": "2022-05-14T11:56:53.989Z"
   },
   {
    "duration": 0,
    "start_time": "2022-05-14T11:56:53.991Z"
   },
   {
    "duration": 0,
    "start_time": "2022-05-14T11:56:53.992Z"
   },
   {
    "duration": 0,
    "start_time": "2022-05-14T11:56:53.994Z"
   },
   {
    "duration": 0,
    "start_time": "2022-05-14T11:56:53.995Z"
   },
   {
    "duration": 0,
    "start_time": "2022-05-14T11:56:53.997Z"
   },
   {
    "duration": 0,
    "start_time": "2022-05-14T11:56:53.999Z"
   },
   {
    "duration": 0,
    "start_time": "2022-05-14T11:56:54.000Z"
   },
   {
    "duration": 3950,
    "start_time": "2022-05-14T11:59:29.485Z"
   },
   {
    "duration": 4212,
    "start_time": "2022-05-14T11:59:33.438Z"
   },
   {
    "duration": 61,
    "start_time": "2022-05-14T11:59:37.653Z"
   },
   {
    "duration": 1828,
    "start_time": "2022-05-14T11:59:37.717Z"
   },
   {
    "duration": 0,
    "start_time": "2022-05-14T11:59:39.549Z"
   },
   {
    "duration": 0,
    "start_time": "2022-05-14T11:59:39.550Z"
   },
   {
    "duration": 0,
    "start_time": "2022-05-14T11:59:39.552Z"
   },
   {
    "duration": 0,
    "start_time": "2022-05-14T11:59:39.554Z"
   },
   {
    "duration": 0,
    "start_time": "2022-05-14T11:59:39.555Z"
   },
   {
    "duration": 0,
    "start_time": "2022-05-14T11:59:39.556Z"
   },
   {
    "duration": 0,
    "start_time": "2022-05-14T11:59:39.557Z"
   },
   {
    "duration": 0,
    "start_time": "2022-05-14T11:59:39.558Z"
   },
   {
    "duration": 0,
    "start_time": "2022-05-14T11:59:39.560Z"
   },
   {
    "duration": 0,
    "start_time": "2022-05-14T11:59:39.582Z"
   },
   {
    "duration": 0,
    "start_time": "2022-05-14T11:59:39.583Z"
   },
   {
    "duration": 0,
    "start_time": "2022-05-14T11:59:39.585Z"
   },
   {
    "duration": 0,
    "start_time": "2022-05-14T11:59:39.586Z"
   },
   {
    "duration": 0,
    "start_time": "2022-05-14T11:59:39.587Z"
   },
   {
    "duration": 0,
    "start_time": "2022-05-14T11:59:39.589Z"
   },
   {
    "duration": 0,
    "start_time": "2022-05-14T11:59:39.590Z"
   },
   {
    "duration": 0,
    "start_time": "2022-05-14T11:59:39.591Z"
   },
   {
    "duration": 0,
    "start_time": "2022-05-14T11:59:39.593Z"
   },
   {
    "duration": 0,
    "start_time": "2022-05-14T11:59:39.594Z"
   },
   {
    "duration": 0,
    "start_time": "2022-05-14T11:59:39.595Z"
   },
   {
    "duration": 0,
    "start_time": "2022-05-14T11:59:39.597Z"
   },
   {
    "duration": 0,
    "start_time": "2022-05-14T11:59:39.598Z"
   },
   {
    "duration": 0,
    "start_time": "2022-05-14T11:59:39.599Z"
   },
   {
    "duration": 0,
    "start_time": "2022-05-14T11:59:39.601Z"
   },
   {
    "duration": 0,
    "start_time": "2022-05-14T11:59:39.602Z"
   },
   {
    "duration": 0,
    "start_time": "2022-05-14T11:59:39.604Z"
   },
   {
    "duration": 0,
    "start_time": "2022-05-14T11:59:39.605Z"
   },
   {
    "duration": 0,
    "start_time": "2022-05-14T11:59:39.606Z"
   },
   {
    "duration": 0,
    "start_time": "2022-05-14T11:59:39.608Z"
   },
   {
    "duration": 0,
    "start_time": "2022-05-14T11:59:39.609Z"
   },
   {
    "duration": 0,
    "start_time": "2022-05-14T11:59:39.611Z"
   },
   {
    "duration": 0,
    "start_time": "2022-05-14T11:59:39.612Z"
   },
   {
    "duration": 0,
    "start_time": "2022-05-14T11:59:39.614Z"
   },
   {
    "duration": 0,
    "start_time": "2022-05-14T11:59:39.615Z"
   },
   {
    "duration": 0,
    "start_time": "2022-05-14T11:59:39.617Z"
   },
   {
    "duration": 0,
    "start_time": "2022-05-14T11:59:39.618Z"
   },
   {
    "duration": 0,
    "start_time": "2022-05-14T11:59:39.620Z"
   },
   {
    "duration": 0,
    "start_time": "2022-05-14T11:59:39.682Z"
   },
   {
    "duration": 0,
    "start_time": "2022-05-14T11:59:39.684Z"
   },
   {
    "duration": 0,
    "start_time": "2022-05-14T11:59:39.685Z"
   },
   {
    "duration": 0,
    "start_time": "2022-05-14T11:59:39.687Z"
   },
   {
    "duration": 3448,
    "start_time": "2022-05-14T12:02:21.863Z"
   },
   {
    "duration": 5,
    "start_time": "2022-05-14T12:02:26.176Z"
   },
   {
    "duration": 7867,
    "start_time": "2022-05-14T12:02:43.967Z"
   },
   {
    "duration": 8195,
    "start_time": "2022-05-14T12:03:02.641Z"
   },
   {
    "duration": 74,
    "start_time": "2022-05-14T12:03:10.840Z"
   },
   {
    "duration": 1906,
    "start_time": "2022-05-14T12:03:10.917Z"
   },
   {
    "duration": 0,
    "start_time": "2022-05-14T12:03:12.829Z"
   },
   {
    "duration": 0,
    "start_time": "2022-05-14T12:03:12.831Z"
   },
   {
    "duration": 0,
    "start_time": "2022-05-14T12:03:12.834Z"
   },
   {
    "duration": 0,
    "start_time": "2022-05-14T12:03:12.835Z"
   },
   {
    "duration": 0,
    "start_time": "2022-05-14T12:03:12.837Z"
   },
   {
    "duration": 0,
    "start_time": "2022-05-14T12:03:12.839Z"
   },
   {
    "duration": 0,
    "start_time": "2022-05-14T12:03:12.841Z"
   },
   {
    "duration": 0,
    "start_time": "2022-05-14T12:03:12.844Z"
   },
   {
    "duration": 0,
    "start_time": "2022-05-14T12:03:12.846Z"
   },
   {
    "duration": 0,
    "start_time": "2022-05-14T12:03:12.848Z"
   },
   {
    "duration": 0,
    "start_time": "2022-05-14T12:03:12.850Z"
   },
   {
    "duration": 0,
    "start_time": "2022-05-14T12:03:12.851Z"
   },
   {
    "duration": 0,
    "start_time": "2022-05-14T12:03:12.852Z"
   },
   {
    "duration": 0,
    "start_time": "2022-05-14T12:03:12.882Z"
   },
   {
    "duration": 0,
    "start_time": "2022-05-14T12:03:12.885Z"
   },
   {
    "duration": 0,
    "start_time": "2022-05-14T12:03:12.887Z"
   },
   {
    "duration": 0,
    "start_time": "2022-05-14T12:03:12.889Z"
   },
   {
    "duration": 0,
    "start_time": "2022-05-14T12:03:12.891Z"
   },
   {
    "duration": 0,
    "start_time": "2022-05-14T12:03:12.893Z"
   },
   {
    "duration": 0,
    "start_time": "2022-05-14T12:03:12.895Z"
   },
   {
    "duration": 0,
    "start_time": "2022-05-14T12:03:12.897Z"
   },
   {
    "duration": 0,
    "start_time": "2022-05-14T12:03:12.899Z"
   },
   {
    "duration": 0,
    "start_time": "2022-05-14T12:03:12.902Z"
   },
   {
    "duration": 0,
    "start_time": "2022-05-14T12:03:12.903Z"
   },
   {
    "duration": 0,
    "start_time": "2022-05-14T12:03:12.906Z"
   },
   {
    "duration": 0,
    "start_time": "2022-05-14T12:03:12.907Z"
   },
   {
    "duration": 0,
    "start_time": "2022-05-14T12:03:12.908Z"
   },
   {
    "duration": 0,
    "start_time": "2022-05-14T12:03:12.910Z"
   },
   {
    "duration": 0,
    "start_time": "2022-05-14T12:03:12.912Z"
   },
   {
    "duration": 0,
    "start_time": "2022-05-14T12:03:12.913Z"
   },
   {
    "duration": 0,
    "start_time": "2022-05-14T12:03:12.915Z"
   },
   {
    "duration": 0,
    "start_time": "2022-05-14T12:03:12.916Z"
   },
   {
    "duration": 0,
    "start_time": "2022-05-14T12:03:12.918Z"
   },
   {
    "duration": 0,
    "start_time": "2022-05-14T12:03:12.982Z"
   },
   {
    "duration": 0,
    "start_time": "2022-05-14T12:03:12.983Z"
   },
   {
    "duration": 0,
    "start_time": "2022-05-14T12:03:12.985Z"
   },
   {
    "duration": 0,
    "start_time": "2022-05-14T12:03:12.986Z"
   },
   {
    "duration": 0,
    "start_time": "2022-05-14T12:03:12.988Z"
   },
   {
    "duration": 0,
    "start_time": "2022-05-14T12:03:12.989Z"
   },
   {
    "duration": 0,
    "start_time": "2022-05-14T12:03:12.991Z"
   },
   {
    "duration": 0,
    "start_time": "2022-05-14T12:03:12.992Z"
   },
   {
    "duration": 67,
    "start_time": "2022-05-14T12:03:25.736Z"
   },
   {
    "duration": 5,
    "start_time": "2022-05-14T12:03:26.927Z"
   },
   {
    "duration": 20,
    "start_time": "2022-05-14T12:03:34.709Z"
   },
   {
    "duration": 5454,
    "start_time": "2022-05-14T12:03:48.253Z"
   },
   {
    "duration": 4647,
    "start_time": "2022-05-14T12:03:53.711Z"
   },
   {
    "duration": 72,
    "start_time": "2022-05-14T12:03:58.361Z"
   },
   {
    "duration": 1892,
    "start_time": "2022-05-14T12:03:58.436Z"
   },
   {
    "duration": 0,
    "start_time": "2022-05-14T12:04:00.333Z"
   },
   {
    "duration": 0,
    "start_time": "2022-05-14T12:04:00.335Z"
   },
   {
    "duration": 0,
    "start_time": "2022-05-14T12:04:00.337Z"
   },
   {
    "duration": 0,
    "start_time": "2022-05-14T12:04:00.339Z"
   },
   {
    "duration": 0,
    "start_time": "2022-05-14T12:04:00.341Z"
   },
   {
    "duration": 0,
    "start_time": "2022-05-14T12:04:00.343Z"
   },
   {
    "duration": 0,
    "start_time": "2022-05-14T12:04:00.344Z"
   },
   {
    "duration": 0,
    "start_time": "2022-05-14T12:04:00.346Z"
   },
   {
    "duration": 0,
    "start_time": "2022-05-14T12:04:00.348Z"
   },
   {
    "duration": 0,
    "start_time": "2022-05-14T12:04:00.350Z"
   },
   {
    "duration": 0,
    "start_time": "2022-05-14T12:04:00.351Z"
   },
   {
    "duration": 0,
    "start_time": "2022-05-14T12:04:00.382Z"
   },
   {
    "duration": 0,
    "start_time": "2022-05-14T12:04:00.384Z"
   },
   {
    "duration": 0,
    "start_time": "2022-05-14T12:04:00.385Z"
   },
   {
    "duration": 0,
    "start_time": "2022-05-14T12:04:00.387Z"
   },
   {
    "duration": 0,
    "start_time": "2022-05-14T12:04:00.388Z"
   },
   {
    "duration": 0,
    "start_time": "2022-05-14T12:04:00.390Z"
   },
   {
    "duration": 0,
    "start_time": "2022-05-14T12:04:00.391Z"
   },
   {
    "duration": 0,
    "start_time": "2022-05-14T12:04:00.393Z"
   },
   {
    "duration": 0,
    "start_time": "2022-05-14T12:04:00.394Z"
   },
   {
    "duration": 0,
    "start_time": "2022-05-14T12:04:00.396Z"
   },
   {
    "duration": 0,
    "start_time": "2022-05-14T12:04:00.397Z"
   },
   {
    "duration": 0,
    "start_time": "2022-05-14T12:04:00.399Z"
   },
   {
    "duration": 0,
    "start_time": "2022-05-14T12:04:00.400Z"
   },
   {
    "duration": 0,
    "start_time": "2022-05-14T12:04:00.402Z"
   },
   {
    "duration": 0,
    "start_time": "2022-05-14T12:04:00.404Z"
   },
   {
    "duration": 0,
    "start_time": "2022-05-14T12:04:00.406Z"
   },
   {
    "duration": 0,
    "start_time": "2022-05-14T12:04:00.407Z"
   },
   {
    "duration": 0,
    "start_time": "2022-05-14T12:04:00.408Z"
   },
   {
    "duration": 0,
    "start_time": "2022-05-14T12:04:00.409Z"
   },
   {
    "duration": 0,
    "start_time": "2022-05-14T12:04:00.410Z"
   },
   {
    "duration": 0,
    "start_time": "2022-05-14T12:04:00.411Z"
   },
   {
    "duration": 0,
    "start_time": "2022-05-14T12:04:00.413Z"
   },
   {
    "duration": 0,
    "start_time": "2022-05-14T12:04:00.414Z"
   },
   {
    "duration": 0,
    "start_time": "2022-05-14T12:04:00.415Z"
   },
   {
    "duration": 0,
    "start_time": "2022-05-14T12:04:00.416Z"
   },
   {
    "duration": 0,
    "start_time": "2022-05-14T12:04:00.418Z"
   },
   {
    "duration": 0,
    "start_time": "2022-05-14T12:04:00.482Z"
   },
   {
    "duration": 0,
    "start_time": "2022-05-14T12:04:00.484Z"
   },
   {
    "duration": 0,
    "start_time": "2022-05-14T12:04:00.485Z"
   },
   {
    "duration": 0,
    "start_time": "2022-05-14T12:04:00.487Z"
   },
   {
    "duration": 51,
    "start_time": "2022-05-14T12:04:40.423Z"
   },
   {
    "duration": 7,
    "start_time": "2022-05-14T12:04:42.748Z"
   },
   {
    "duration": 4020,
    "start_time": "2022-05-14T12:06:35.997Z"
   },
   {
    "duration": 3612,
    "start_time": "2022-05-14T12:06:40.020Z"
   },
   {
    "duration": 14,
    "start_time": "2022-05-14T12:06:43.634Z"
   },
   {
    "duration": 56,
    "start_time": "2022-05-14T12:06:43.650Z"
   },
   {
    "duration": 1863,
    "start_time": "2022-05-14T12:06:43.709Z"
   },
   {
    "duration": 0,
    "start_time": "2022-05-14T12:06:45.575Z"
   },
   {
    "duration": 0,
    "start_time": "2022-05-14T12:06:45.577Z"
   },
   {
    "duration": 0,
    "start_time": "2022-05-14T12:06:45.578Z"
   },
   {
    "duration": 0,
    "start_time": "2022-05-14T12:06:45.578Z"
   },
   {
    "duration": 0,
    "start_time": "2022-05-14T12:06:45.579Z"
   },
   {
    "duration": 0,
    "start_time": "2022-05-14T12:06:45.580Z"
   },
   {
    "duration": 0,
    "start_time": "2022-05-14T12:06:45.582Z"
   },
   {
    "duration": 0,
    "start_time": "2022-05-14T12:06:45.583Z"
   },
   {
    "duration": 0,
    "start_time": "2022-05-14T12:06:45.588Z"
   },
   {
    "duration": 0,
    "start_time": "2022-05-14T12:06:45.591Z"
   },
   {
    "duration": 0,
    "start_time": "2022-05-14T12:06:45.593Z"
   },
   {
    "duration": 0,
    "start_time": "2022-05-14T12:06:45.595Z"
   },
   {
    "duration": 0,
    "start_time": "2022-05-14T12:06:45.597Z"
   },
   {
    "duration": 0,
    "start_time": "2022-05-14T12:06:45.600Z"
   },
   {
    "duration": 0,
    "start_time": "2022-05-14T12:06:45.602Z"
   },
   {
    "duration": 0,
    "start_time": "2022-05-14T12:06:45.604Z"
   },
   {
    "duration": 0,
    "start_time": "2022-05-14T12:06:45.605Z"
   },
   {
    "duration": 0,
    "start_time": "2022-05-14T12:06:45.606Z"
   },
   {
    "duration": 0,
    "start_time": "2022-05-14T12:06:45.608Z"
   },
   {
    "duration": 0,
    "start_time": "2022-05-14T12:06:45.610Z"
   },
   {
    "duration": 0,
    "start_time": "2022-05-14T12:06:45.612Z"
   },
   {
    "duration": 0,
    "start_time": "2022-05-14T12:06:45.613Z"
   },
   {
    "duration": 0,
    "start_time": "2022-05-14T12:06:45.614Z"
   },
   {
    "duration": 0,
    "start_time": "2022-05-14T12:06:45.616Z"
   },
   {
    "duration": 0,
    "start_time": "2022-05-14T12:06:45.618Z"
   },
   {
    "duration": 0,
    "start_time": "2022-05-14T12:06:45.619Z"
   },
   {
    "duration": 0,
    "start_time": "2022-05-14T12:06:45.688Z"
   },
   {
    "duration": 0,
    "start_time": "2022-05-14T12:06:45.690Z"
   },
   {
    "duration": 0,
    "start_time": "2022-05-14T12:06:45.695Z"
   },
   {
    "duration": 0,
    "start_time": "2022-05-14T12:06:45.697Z"
   },
   {
    "duration": 0,
    "start_time": "2022-05-14T12:06:45.700Z"
   },
   {
    "duration": 0,
    "start_time": "2022-05-14T12:06:45.705Z"
   },
   {
    "duration": 0,
    "start_time": "2022-05-14T12:06:45.707Z"
   },
   {
    "duration": 0,
    "start_time": "2022-05-14T12:06:45.709Z"
   },
   {
    "duration": 0,
    "start_time": "2022-05-14T12:06:45.711Z"
   },
   {
    "duration": 0,
    "start_time": "2022-05-14T12:06:45.714Z"
   },
   {
    "duration": 0,
    "start_time": "2022-05-14T12:06:45.716Z"
   },
   {
    "duration": 0,
    "start_time": "2022-05-14T12:06:45.718Z"
   },
   {
    "duration": 0,
    "start_time": "2022-05-14T12:06:45.720Z"
   },
   {
    "duration": 0,
    "start_time": "2022-05-14T12:06:45.722Z"
   },
   {
    "duration": 0,
    "start_time": "2022-05-14T12:06:45.724Z"
   },
   {
    "duration": 3913,
    "start_time": "2022-05-14T12:07:53.114Z"
   },
   {
    "duration": 3485,
    "start_time": "2022-05-14T12:07:57.030Z"
   },
   {
    "duration": 73,
    "start_time": "2022-05-14T12:08:00.517Z"
   },
   {
    "duration": 2464,
    "start_time": "2022-05-14T12:08:00.594Z"
   },
   {
    "duration": 0,
    "start_time": "2022-05-14T12:08:03.063Z"
   },
   {
    "duration": 0,
    "start_time": "2022-05-14T12:08:03.065Z"
   },
   {
    "duration": 0,
    "start_time": "2022-05-14T12:08:03.066Z"
   },
   {
    "duration": 0,
    "start_time": "2022-05-14T12:08:03.068Z"
   },
   {
    "duration": 0,
    "start_time": "2022-05-14T12:08:03.070Z"
   },
   {
    "duration": 0,
    "start_time": "2022-05-14T12:08:03.082Z"
   },
   {
    "duration": 0,
    "start_time": "2022-05-14T12:08:03.083Z"
   },
   {
    "duration": 0,
    "start_time": "2022-05-14T12:08:03.085Z"
   },
   {
    "duration": 0,
    "start_time": "2022-05-14T12:08:03.086Z"
   },
   {
    "duration": 0,
    "start_time": "2022-05-14T12:08:03.088Z"
   },
   {
    "duration": 0,
    "start_time": "2022-05-14T12:08:03.089Z"
   },
   {
    "duration": 0,
    "start_time": "2022-05-14T12:08:03.090Z"
   },
   {
    "duration": 0,
    "start_time": "2022-05-14T12:08:03.092Z"
   },
   {
    "duration": 0,
    "start_time": "2022-05-14T12:08:03.094Z"
   },
   {
    "duration": 0,
    "start_time": "2022-05-14T12:08:03.095Z"
   },
   {
    "duration": 0,
    "start_time": "2022-05-14T12:08:03.097Z"
   },
   {
    "duration": 0,
    "start_time": "2022-05-14T12:08:03.098Z"
   },
   {
    "duration": 0,
    "start_time": "2022-05-14T12:08:03.099Z"
   },
   {
    "duration": 0,
    "start_time": "2022-05-14T12:08:03.101Z"
   },
   {
    "duration": 0,
    "start_time": "2022-05-14T12:08:03.102Z"
   },
   {
    "duration": 0,
    "start_time": "2022-05-14T12:08:03.103Z"
   },
   {
    "duration": 0,
    "start_time": "2022-05-14T12:08:03.105Z"
   },
   {
    "duration": 0,
    "start_time": "2022-05-14T12:08:03.106Z"
   },
   {
    "duration": 0,
    "start_time": "2022-05-14T12:08:03.108Z"
   },
   {
    "duration": 0,
    "start_time": "2022-05-14T12:08:03.109Z"
   },
   {
    "duration": 0,
    "start_time": "2022-05-14T12:08:03.111Z"
   },
   {
    "duration": 0,
    "start_time": "2022-05-14T12:08:03.112Z"
   },
   {
    "duration": 0,
    "start_time": "2022-05-14T12:08:03.113Z"
   },
   {
    "duration": 0,
    "start_time": "2022-05-14T12:08:03.115Z"
   },
   {
    "duration": 0,
    "start_time": "2022-05-14T12:08:03.116Z"
   },
   {
    "duration": 0,
    "start_time": "2022-05-14T12:08:03.117Z"
   },
   {
    "duration": 0,
    "start_time": "2022-05-14T12:08:03.182Z"
   },
   {
    "duration": 0,
    "start_time": "2022-05-14T12:08:03.184Z"
   },
   {
    "duration": 0,
    "start_time": "2022-05-14T12:08:03.185Z"
   },
   {
    "duration": 0,
    "start_time": "2022-05-14T12:08:03.186Z"
   },
   {
    "duration": 0,
    "start_time": "2022-05-14T12:08:03.188Z"
   },
   {
    "duration": 0,
    "start_time": "2022-05-14T12:08:03.189Z"
   },
   {
    "duration": 0,
    "start_time": "2022-05-14T12:08:03.191Z"
   },
   {
    "duration": 0,
    "start_time": "2022-05-14T12:08:03.192Z"
   },
   {
    "duration": 0,
    "start_time": "2022-05-14T12:08:03.194Z"
   },
   {
    "duration": 0,
    "start_time": "2022-05-14T12:08:03.195Z"
   },
   {
    "duration": 7897,
    "start_time": "2022-05-14T12:09:06.599Z"
   },
   {
    "duration": 3652,
    "start_time": "2022-05-14T12:09:14.500Z"
   },
   {
    "duration": 52,
    "start_time": "2022-05-14T12:09:18.155Z"
   },
   {
    "duration": 5,
    "start_time": "2022-05-14T12:09:18.210Z"
   },
   {
    "duration": 7921,
    "start_time": "2022-05-14T12:09:36.113Z"
   },
   {
    "duration": 5302,
    "start_time": "2022-05-14T12:09:44.037Z"
   },
   {
    "duration": 60,
    "start_time": "2022-05-14T12:09:49.343Z"
   },
   {
    "duration": 1954,
    "start_time": "2022-05-14T12:09:49.406Z"
   },
   {
    "duration": 1,
    "start_time": "2022-05-14T12:09:51.363Z"
   },
   {
    "duration": 0,
    "start_time": "2022-05-14T12:09:51.365Z"
   },
   {
    "duration": 0,
    "start_time": "2022-05-14T12:09:51.367Z"
   },
   {
    "duration": 0,
    "start_time": "2022-05-14T12:09:51.368Z"
   },
   {
    "duration": 0,
    "start_time": "2022-05-14T12:09:51.383Z"
   },
   {
    "duration": 0,
    "start_time": "2022-05-14T12:09:51.385Z"
   },
   {
    "duration": 0,
    "start_time": "2022-05-14T12:09:51.386Z"
   },
   {
    "duration": 0,
    "start_time": "2022-05-14T12:09:51.388Z"
   },
   {
    "duration": 0,
    "start_time": "2022-05-14T12:09:51.390Z"
   },
   {
    "duration": 0,
    "start_time": "2022-05-14T12:09:51.391Z"
   },
   {
    "duration": 0,
    "start_time": "2022-05-14T12:09:51.393Z"
   },
   {
    "duration": 0,
    "start_time": "2022-05-14T12:09:51.394Z"
   },
   {
    "duration": 0,
    "start_time": "2022-05-14T12:09:51.395Z"
   },
   {
    "duration": 0,
    "start_time": "2022-05-14T12:09:51.396Z"
   },
   {
    "duration": 0,
    "start_time": "2022-05-14T12:09:51.398Z"
   },
   {
    "duration": 0,
    "start_time": "2022-05-14T12:09:51.400Z"
   },
   {
    "duration": 0,
    "start_time": "2022-05-14T12:09:51.402Z"
   },
   {
    "duration": 0,
    "start_time": "2022-05-14T12:09:51.404Z"
   },
   {
    "duration": 0,
    "start_time": "2022-05-14T12:09:51.405Z"
   },
   {
    "duration": 0,
    "start_time": "2022-05-14T12:09:51.406Z"
   },
   {
    "duration": 0,
    "start_time": "2022-05-14T12:09:51.408Z"
   },
   {
    "duration": 0,
    "start_time": "2022-05-14T12:09:51.409Z"
   },
   {
    "duration": 0,
    "start_time": "2022-05-14T12:09:51.411Z"
   },
   {
    "duration": 0,
    "start_time": "2022-05-14T12:09:51.415Z"
   },
   {
    "duration": 0,
    "start_time": "2022-05-14T12:09:51.417Z"
   },
   {
    "duration": 0,
    "start_time": "2022-05-14T12:09:51.419Z"
   },
   {
    "duration": 0,
    "start_time": "2022-05-14T12:09:51.420Z"
   },
   {
    "duration": 0,
    "start_time": "2022-05-14T12:09:51.483Z"
   },
   {
    "duration": 0,
    "start_time": "2022-05-14T12:09:51.485Z"
   },
   {
    "duration": 0,
    "start_time": "2022-05-14T12:09:51.487Z"
   },
   {
    "duration": 0,
    "start_time": "2022-05-14T12:09:51.488Z"
   },
   {
    "duration": 0,
    "start_time": "2022-05-14T12:09:51.490Z"
   },
   {
    "duration": 0,
    "start_time": "2022-05-14T12:09:51.492Z"
   },
   {
    "duration": 1,
    "start_time": "2022-05-14T12:09:51.493Z"
   },
   {
    "duration": 0,
    "start_time": "2022-05-14T12:09:51.496Z"
   },
   {
    "duration": 0,
    "start_time": "2022-05-14T12:09:51.497Z"
   },
   {
    "duration": 0,
    "start_time": "2022-05-14T12:09:51.499Z"
   },
   {
    "duration": 0,
    "start_time": "2022-05-14T12:09:51.500Z"
   },
   {
    "duration": 0,
    "start_time": "2022-05-14T12:09:51.501Z"
   },
   {
    "duration": 0,
    "start_time": "2022-05-14T12:09:51.504Z"
   },
   {
    "duration": 0,
    "start_time": "2022-05-14T12:09:51.506Z"
   },
   {
    "duration": 12590,
    "start_time": "2022-05-14T12:13:00.110Z"
   },
   {
    "duration": 82,
    "start_time": "2022-05-14T12:13:12.703Z"
   },
   {
    "duration": 1854,
    "start_time": "2022-05-14T12:13:12.787Z"
   },
   {
    "duration": 0,
    "start_time": "2022-05-14T12:13:14.645Z"
   },
   {
    "duration": 0,
    "start_time": "2022-05-14T12:13:14.647Z"
   },
   {
    "duration": 0,
    "start_time": "2022-05-14T12:13:14.648Z"
   },
   {
    "duration": 0,
    "start_time": "2022-05-14T12:13:14.650Z"
   },
   {
    "duration": 0,
    "start_time": "2022-05-14T12:13:14.651Z"
   },
   {
    "duration": 0,
    "start_time": "2022-05-14T12:13:14.652Z"
   },
   {
    "duration": 0,
    "start_time": "2022-05-14T12:13:14.654Z"
   },
   {
    "duration": 0,
    "start_time": "2022-05-14T12:13:14.655Z"
   },
   {
    "duration": 0,
    "start_time": "2022-05-14T12:13:14.656Z"
   },
   {
    "duration": 0,
    "start_time": "2022-05-14T12:13:14.658Z"
   },
   {
    "duration": 0,
    "start_time": "2022-05-14T12:13:14.659Z"
   },
   {
    "duration": 0,
    "start_time": "2022-05-14T12:13:14.660Z"
   },
   {
    "duration": 0,
    "start_time": "2022-05-14T12:13:14.682Z"
   },
   {
    "duration": 1,
    "start_time": "2022-05-14T12:13:14.683Z"
   },
   {
    "duration": 0,
    "start_time": "2022-05-14T12:13:14.685Z"
   },
   {
    "duration": 0,
    "start_time": "2022-05-14T12:13:14.686Z"
   },
   {
    "duration": 0,
    "start_time": "2022-05-14T12:13:14.688Z"
   },
   {
    "duration": 0,
    "start_time": "2022-05-14T12:13:14.689Z"
   },
   {
    "duration": 0,
    "start_time": "2022-05-14T12:13:14.690Z"
   },
   {
    "duration": 0,
    "start_time": "2022-05-14T12:13:14.692Z"
   },
   {
    "duration": 0,
    "start_time": "2022-05-14T12:13:14.693Z"
   },
   {
    "duration": 0,
    "start_time": "2022-05-14T12:13:14.695Z"
   },
   {
    "duration": 0,
    "start_time": "2022-05-14T12:13:14.696Z"
   },
   {
    "duration": 0,
    "start_time": "2022-05-14T12:13:14.697Z"
   },
   {
    "duration": 0,
    "start_time": "2022-05-14T12:13:14.699Z"
   },
   {
    "duration": 0,
    "start_time": "2022-05-14T12:13:14.700Z"
   },
   {
    "duration": 0,
    "start_time": "2022-05-14T12:13:14.702Z"
   },
   {
    "duration": 0,
    "start_time": "2022-05-14T12:13:14.703Z"
   },
   {
    "duration": 0,
    "start_time": "2022-05-14T12:13:14.705Z"
   },
   {
    "duration": 0,
    "start_time": "2022-05-14T12:13:14.706Z"
   },
   {
    "duration": 0,
    "start_time": "2022-05-14T12:13:14.708Z"
   },
   {
    "duration": 0,
    "start_time": "2022-05-14T12:13:14.709Z"
   },
   {
    "duration": 0,
    "start_time": "2022-05-14T12:13:14.710Z"
   },
   {
    "duration": 0,
    "start_time": "2022-05-14T12:13:14.711Z"
   },
   {
    "duration": 0,
    "start_time": "2022-05-14T12:13:14.713Z"
   },
   {
    "duration": 1,
    "start_time": "2022-05-14T12:13:14.715Z"
   },
   {
    "duration": 0,
    "start_time": "2022-05-14T12:13:14.717Z"
   },
   {
    "duration": 0,
    "start_time": "2022-05-14T12:13:14.718Z"
   },
   {
    "duration": 0,
    "start_time": "2022-05-14T12:13:14.720Z"
   },
   {
    "duration": 0,
    "start_time": "2022-05-14T12:13:14.782Z"
   },
   {
    "duration": 0,
    "start_time": "2022-05-14T12:13:14.784Z"
   },
   {
    "duration": 6,
    "start_time": "2022-05-14T12:13:31.824Z"
   },
   {
    "duration": 13182,
    "start_time": "2022-05-14T12:13:45.001Z"
   },
   {
    "duration": 73,
    "start_time": "2022-05-14T12:13:58.187Z"
   },
   {
    "duration": 2749,
    "start_time": "2022-05-14T12:13:58.263Z"
   },
   {
    "duration": 0,
    "start_time": "2022-05-14T12:14:01.017Z"
   },
   {
    "duration": 0,
    "start_time": "2022-05-14T12:14:01.019Z"
   },
   {
    "duration": 0,
    "start_time": "2022-05-14T12:14:01.021Z"
   },
   {
    "duration": 1,
    "start_time": "2022-05-14T12:14:01.022Z"
   },
   {
    "duration": 0,
    "start_time": "2022-05-14T12:14:01.024Z"
   },
   {
    "duration": 0,
    "start_time": "2022-05-14T12:14:01.025Z"
   },
   {
    "duration": 0,
    "start_time": "2022-05-14T12:14:01.027Z"
   },
   {
    "duration": 0,
    "start_time": "2022-05-14T12:14:01.028Z"
   },
   {
    "duration": 0,
    "start_time": "2022-05-14T12:14:01.030Z"
   },
   {
    "duration": 0,
    "start_time": "2022-05-14T12:14:01.031Z"
   },
   {
    "duration": 0,
    "start_time": "2022-05-14T12:14:01.032Z"
   },
   {
    "duration": 0,
    "start_time": "2022-05-14T12:14:01.034Z"
   },
   {
    "duration": 0,
    "start_time": "2022-05-14T12:14:01.035Z"
   },
   {
    "duration": 0,
    "start_time": "2022-05-14T12:14:01.037Z"
   },
   {
    "duration": 0,
    "start_time": "2022-05-14T12:14:01.038Z"
   },
   {
    "duration": 0,
    "start_time": "2022-05-14T12:14:01.040Z"
   },
   {
    "duration": 0,
    "start_time": "2022-05-14T12:14:01.082Z"
   },
   {
    "duration": 0,
    "start_time": "2022-05-14T12:14:01.083Z"
   },
   {
    "duration": 0,
    "start_time": "2022-05-14T12:14:01.085Z"
   },
   {
    "duration": 0,
    "start_time": "2022-05-14T12:14:01.086Z"
   },
   {
    "duration": 0,
    "start_time": "2022-05-14T12:14:01.088Z"
   },
   {
    "duration": 0,
    "start_time": "2022-05-14T12:14:01.089Z"
   },
   {
    "duration": 0,
    "start_time": "2022-05-14T12:14:01.091Z"
   },
   {
    "duration": 0,
    "start_time": "2022-05-14T12:14:01.092Z"
   },
   {
    "duration": 0,
    "start_time": "2022-05-14T12:14:01.094Z"
   },
   {
    "duration": 0,
    "start_time": "2022-05-14T12:14:01.095Z"
   },
   {
    "duration": 1,
    "start_time": "2022-05-14T12:14:01.096Z"
   },
   {
    "duration": 0,
    "start_time": "2022-05-14T12:14:01.098Z"
   },
   {
    "duration": 0,
    "start_time": "2022-05-14T12:14:01.099Z"
   },
   {
    "duration": 0,
    "start_time": "2022-05-14T12:14:01.101Z"
   },
   {
    "duration": 0,
    "start_time": "2022-05-14T12:14:01.102Z"
   },
   {
    "duration": 0,
    "start_time": "2022-05-14T12:14:01.103Z"
   },
   {
    "duration": 0,
    "start_time": "2022-05-14T12:14:01.105Z"
   },
   {
    "duration": 0,
    "start_time": "2022-05-14T12:14:01.107Z"
   },
   {
    "duration": 0,
    "start_time": "2022-05-14T12:14:01.108Z"
   },
   {
    "duration": 0,
    "start_time": "2022-05-14T12:14:01.109Z"
   },
   {
    "duration": 0,
    "start_time": "2022-05-14T12:14:01.110Z"
   },
   {
    "duration": 0,
    "start_time": "2022-05-14T12:14:01.111Z"
   },
   {
    "duration": 0,
    "start_time": "2022-05-14T12:14:01.113Z"
   },
   {
    "duration": 0,
    "start_time": "2022-05-14T12:14:01.114Z"
   },
   {
    "duration": 0,
    "start_time": "2022-05-14T12:14:01.115Z"
   },
   {
    "duration": 6,
    "start_time": "2022-05-14T13:54:33.902Z"
   },
   {
    "duration": 11793,
    "start_time": "2022-05-14T13:54:45.762Z"
   },
   {
    "duration": 57,
    "start_time": "2022-05-14T13:54:57.558Z"
   },
   {
    "duration": 1793,
    "start_time": "2022-05-14T13:54:57.618Z"
   },
   {
    "duration": 0,
    "start_time": "2022-05-14T13:54:59.415Z"
   },
   {
    "duration": 0,
    "start_time": "2022-05-14T13:54:59.417Z"
   },
   {
    "duration": 0,
    "start_time": "2022-05-14T13:54:59.419Z"
   },
   {
    "duration": 0,
    "start_time": "2022-05-14T13:54:59.420Z"
   },
   {
    "duration": 0,
    "start_time": "2022-05-14T13:54:59.422Z"
   },
   {
    "duration": 0,
    "start_time": "2022-05-14T13:54:59.423Z"
   },
   {
    "duration": 0,
    "start_time": "2022-05-14T13:54:59.424Z"
   },
   {
    "duration": 0,
    "start_time": "2022-05-14T13:54:59.426Z"
   },
   {
    "duration": 0,
    "start_time": "2022-05-14T13:54:59.427Z"
   },
   {
    "duration": 0,
    "start_time": "2022-05-14T13:54:59.429Z"
   },
   {
    "duration": 0,
    "start_time": "2022-05-14T13:54:59.430Z"
   },
   {
    "duration": 0,
    "start_time": "2022-05-14T13:54:59.432Z"
   },
   {
    "duration": 0,
    "start_time": "2022-05-14T13:54:59.433Z"
   },
   {
    "duration": 0,
    "start_time": "2022-05-14T13:54:59.435Z"
   },
   {
    "duration": 0,
    "start_time": "2022-05-14T13:54:59.436Z"
   },
   {
    "duration": 0,
    "start_time": "2022-05-14T13:54:59.438Z"
   },
   {
    "duration": 0,
    "start_time": "2022-05-14T13:54:59.439Z"
   },
   {
    "duration": 0,
    "start_time": "2022-05-14T13:54:59.482Z"
   },
   {
    "duration": 0,
    "start_time": "2022-05-14T13:54:59.483Z"
   },
   {
    "duration": 0,
    "start_time": "2022-05-14T13:54:59.485Z"
   },
   {
    "duration": 0,
    "start_time": "2022-05-14T13:54:59.486Z"
   },
   {
    "duration": 0,
    "start_time": "2022-05-14T13:54:59.488Z"
   },
   {
    "duration": 0,
    "start_time": "2022-05-14T13:54:59.489Z"
   },
   {
    "duration": 0,
    "start_time": "2022-05-14T13:54:59.491Z"
   },
   {
    "duration": 0,
    "start_time": "2022-05-14T13:54:59.492Z"
   },
   {
    "duration": 0,
    "start_time": "2022-05-14T13:54:59.494Z"
   },
   {
    "duration": 0,
    "start_time": "2022-05-14T13:54:59.495Z"
   },
   {
    "duration": 0,
    "start_time": "2022-05-14T13:54:59.497Z"
   },
   {
    "duration": 0,
    "start_time": "2022-05-14T13:54:59.498Z"
   },
   {
    "duration": 0,
    "start_time": "2022-05-14T13:54:59.500Z"
   },
   {
    "duration": 0,
    "start_time": "2022-05-14T13:54:59.501Z"
   },
   {
    "duration": 0,
    "start_time": "2022-05-14T13:54:59.502Z"
   },
   {
    "duration": 0,
    "start_time": "2022-05-14T13:54:59.504Z"
   },
   {
    "duration": 0,
    "start_time": "2022-05-14T13:54:59.505Z"
   },
   {
    "duration": 0,
    "start_time": "2022-05-14T13:54:59.507Z"
   },
   {
    "duration": 0,
    "start_time": "2022-05-14T13:54:59.508Z"
   },
   {
    "duration": 0,
    "start_time": "2022-05-14T13:54:59.510Z"
   },
   {
    "duration": 0,
    "start_time": "2022-05-14T13:54:59.511Z"
   },
   {
    "duration": 0,
    "start_time": "2022-05-14T13:54:59.513Z"
   },
   {
    "duration": 0,
    "start_time": "2022-05-14T13:54:59.514Z"
   },
   {
    "duration": 0,
    "start_time": "2022-05-14T13:54:59.515Z"
   },
   {
    "duration": 11934,
    "start_time": "2022-05-14T13:56:55.036Z"
   },
   {
    "duration": 59,
    "start_time": "2022-05-14T13:57:06.973Z"
   },
   {
    "duration": 1921,
    "start_time": "2022-05-14T13:57:07.035Z"
   },
   {
    "duration": 0,
    "start_time": "2022-05-14T13:57:08.960Z"
   },
   {
    "duration": 0,
    "start_time": "2022-05-14T13:57:08.962Z"
   },
   {
    "duration": 0,
    "start_time": "2022-05-14T13:57:08.963Z"
   },
   {
    "duration": 1,
    "start_time": "2022-05-14T13:57:08.964Z"
   },
   {
    "duration": 0,
    "start_time": "2022-05-14T13:57:08.982Z"
   },
   {
    "duration": 0,
    "start_time": "2022-05-14T13:57:08.983Z"
   },
   {
    "duration": 0,
    "start_time": "2022-05-14T13:57:08.985Z"
   },
   {
    "duration": 0,
    "start_time": "2022-05-14T13:57:08.986Z"
   },
   {
    "duration": 0,
    "start_time": "2022-05-14T13:57:08.988Z"
   },
   {
    "duration": 0,
    "start_time": "2022-05-14T13:57:08.989Z"
   },
   {
    "duration": 0,
    "start_time": "2022-05-14T13:57:08.991Z"
   },
   {
    "duration": 0,
    "start_time": "2022-05-14T13:57:08.992Z"
   },
   {
    "duration": 0,
    "start_time": "2022-05-14T13:57:08.994Z"
   },
   {
    "duration": 0,
    "start_time": "2022-05-14T13:57:08.996Z"
   },
   {
    "duration": 0,
    "start_time": "2022-05-14T13:57:08.997Z"
   },
   {
    "duration": 0,
    "start_time": "2022-05-14T13:57:08.999Z"
   },
   {
    "duration": 0,
    "start_time": "2022-05-14T13:57:09.001Z"
   },
   {
    "duration": 1,
    "start_time": "2022-05-14T13:57:09.002Z"
   },
   {
    "duration": 0,
    "start_time": "2022-05-14T13:57:09.004Z"
   },
   {
    "duration": 0,
    "start_time": "2022-05-14T13:57:09.006Z"
   },
   {
    "duration": 0,
    "start_time": "2022-05-14T13:57:09.007Z"
   },
   {
    "duration": 0,
    "start_time": "2022-05-14T13:57:09.009Z"
   },
   {
    "duration": 0,
    "start_time": "2022-05-14T13:57:09.010Z"
   },
   {
    "duration": 1,
    "start_time": "2022-05-14T13:57:09.011Z"
   },
   {
    "duration": 0,
    "start_time": "2022-05-14T13:57:09.013Z"
   },
   {
    "duration": 0,
    "start_time": "2022-05-14T13:57:09.014Z"
   },
   {
    "duration": 0,
    "start_time": "2022-05-14T13:57:09.015Z"
   },
   {
    "duration": 0,
    "start_time": "2022-05-14T13:57:09.016Z"
   },
   {
    "duration": 0,
    "start_time": "2022-05-14T13:57:09.018Z"
   },
   {
    "duration": 0,
    "start_time": "2022-05-14T13:57:09.019Z"
   },
   {
    "duration": 0,
    "start_time": "2022-05-14T13:57:09.020Z"
   },
   {
    "duration": 0,
    "start_time": "2022-05-14T13:57:09.022Z"
   },
   {
    "duration": 0,
    "start_time": "2022-05-14T13:57:09.082Z"
   },
   {
    "duration": 0,
    "start_time": "2022-05-14T13:57:09.083Z"
   },
   {
    "duration": 0,
    "start_time": "2022-05-14T13:57:09.085Z"
   },
   {
    "duration": 0,
    "start_time": "2022-05-14T13:57:09.086Z"
   },
   {
    "duration": 0,
    "start_time": "2022-05-14T13:57:09.088Z"
   },
   {
    "duration": 0,
    "start_time": "2022-05-14T13:57:09.089Z"
   },
   {
    "duration": 0,
    "start_time": "2022-05-14T13:57:09.091Z"
   },
   {
    "duration": 0,
    "start_time": "2022-05-14T13:57:09.092Z"
   },
   {
    "duration": 0,
    "start_time": "2022-05-14T13:57:09.093Z"
   },
   {
    "duration": 11202,
    "start_time": "2022-05-14T13:59:07.758Z"
   },
   {
    "duration": 69,
    "start_time": "2022-05-14T13:59:18.963Z"
   },
   {
    "duration": 1876,
    "start_time": "2022-05-14T13:59:19.034Z"
   },
   {
    "duration": 0,
    "start_time": "2022-05-14T13:59:20.914Z"
   },
   {
    "duration": 0,
    "start_time": "2022-05-14T13:59:20.917Z"
   },
   {
    "duration": 0,
    "start_time": "2022-05-14T13:59:20.918Z"
   },
   {
    "duration": 0,
    "start_time": "2022-05-14T13:59:20.920Z"
   },
   {
    "duration": 0,
    "start_time": "2022-05-14T13:59:20.921Z"
   },
   {
    "duration": 0,
    "start_time": "2022-05-14T13:59:20.923Z"
   },
   {
    "duration": 0,
    "start_time": "2022-05-14T13:59:20.924Z"
   },
   {
    "duration": 0,
    "start_time": "2022-05-14T13:59:20.925Z"
   },
   {
    "duration": 0,
    "start_time": "2022-05-14T13:59:20.926Z"
   },
   {
    "duration": 1,
    "start_time": "2022-05-14T13:59:20.927Z"
   },
   {
    "duration": 0,
    "start_time": "2022-05-14T13:59:20.929Z"
   },
   {
    "duration": 0,
    "start_time": "2022-05-14T13:59:20.930Z"
   },
   {
    "duration": 0,
    "start_time": "2022-05-14T13:59:20.932Z"
   },
   {
    "duration": 0,
    "start_time": "2022-05-14T13:59:20.933Z"
   },
   {
    "duration": 0,
    "start_time": "2022-05-14T13:59:20.935Z"
   },
   {
    "duration": 0,
    "start_time": "2022-05-14T13:59:20.936Z"
   },
   {
    "duration": 0,
    "start_time": "2022-05-14T13:59:20.938Z"
   },
   {
    "duration": 0,
    "start_time": "2022-05-14T13:59:20.939Z"
   },
   {
    "duration": 0,
    "start_time": "2022-05-14T13:59:20.941Z"
   },
   {
    "duration": 21083,
    "start_time": "2022-05-15T08:19:38.315Z"
   },
   {
    "duration": 122,
    "start_time": "2022-05-15T08:19:59.400Z"
   },
   {
    "duration": 1651,
    "start_time": "2022-05-15T08:19:59.524Z"
   },
   {
    "duration": 0,
    "start_time": "2022-05-15T08:20:01.179Z"
   },
   {
    "duration": 0,
    "start_time": "2022-05-15T08:20:01.180Z"
   },
   {
    "duration": 0,
    "start_time": "2022-05-15T08:20:01.182Z"
   },
   {
    "duration": 0,
    "start_time": "2022-05-15T08:20:01.183Z"
   },
   {
    "duration": 0,
    "start_time": "2022-05-15T08:20:01.184Z"
   },
   {
    "duration": 0,
    "start_time": "2022-05-15T08:20:01.187Z"
   },
   {
    "duration": 0,
    "start_time": "2022-05-15T08:20:01.189Z"
   },
   {
    "duration": 0,
    "start_time": "2022-05-15T08:20:01.190Z"
   },
   {
    "duration": 0,
    "start_time": "2022-05-15T08:20:01.191Z"
   },
   {
    "duration": 0,
    "start_time": "2022-05-15T08:20:01.192Z"
   },
   {
    "duration": 0,
    "start_time": "2022-05-15T08:20:01.193Z"
   },
   {
    "duration": 0,
    "start_time": "2022-05-15T08:20:01.194Z"
   },
   {
    "duration": 0,
    "start_time": "2022-05-15T08:20:01.195Z"
   },
   {
    "duration": 0,
    "start_time": "2022-05-15T08:20:01.196Z"
   },
   {
    "duration": 0,
    "start_time": "2022-05-15T08:20:01.197Z"
   },
   {
    "duration": 0,
    "start_time": "2022-05-15T08:20:01.198Z"
   },
   {
    "duration": 0,
    "start_time": "2022-05-15T08:20:01.199Z"
   },
   {
    "duration": 0,
    "start_time": "2022-05-15T08:20:01.200Z"
   },
   {
    "duration": 0,
    "start_time": "2022-05-15T08:20:01.201Z"
   },
   {
    "duration": 0,
    "start_time": "2022-05-15T08:20:01.202Z"
   },
   {
    "duration": 0,
    "start_time": "2022-05-15T08:20:01.203Z"
   },
   {
    "duration": 0,
    "start_time": "2022-05-15T08:20:01.204Z"
   },
   {
    "duration": 0,
    "start_time": "2022-05-15T08:20:01.206Z"
   },
   {
    "duration": 0,
    "start_time": "2022-05-15T08:20:01.207Z"
   },
   {
    "duration": 0,
    "start_time": "2022-05-15T08:20:01.208Z"
   },
   {
    "duration": 0,
    "start_time": "2022-05-15T08:20:01.208Z"
   },
   {
    "duration": 0,
    "start_time": "2022-05-15T08:20:01.209Z"
   },
   {
    "duration": 1,
    "start_time": "2022-05-15T08:20:01.210Z"
   },
   {
    "duration": 0,
    "start_time": "2022-05-15T08:20:01.211Z"
   },
   {
    "duration": 0,
    "start_time": "2022-05-15T08:20:01.213Z"
   },
   {
    "duration": 0,
    "start_time": "2022-05-15T08:20:01.213Z"
   },
   {
    "duration": 0,
    "start_time": "2022-05-15T08:20:01.214Z"
   },
   {
    "duration": 0,
    "start_time": "2022-05-15T08:20:01.215Z"
   },
   {
    "duration": 0,
    "start_time": "2022-05-15T08:20:01.216Z"
   },
   {
    "duration": 0,
    "start_time": "2022-05-15T08:20:01.217Z"
   },
   {
    "duration": 0,
    "start_time": "2022-05-15T08:20:01.218Z"
   },
   {
    "duration": 0,
    "start_time": "2022-05-15T08:20:01.219Z"
   },
   {
    "duration": 0,
    "start_time": "2022-05-15T08:20:01.220Z"
   },
   {
    "duration": 0,
    "start_time": "2022-05-15T08:20:01.221Z"
   },
   {
    "duration": 0,
    "start_time": "2022-05-15T08:20:01.222Z"
   },
   {
    "duration": 0,
    "start_time": "2022-05-15T08:20:01.223Z"
   },
   {
    "duration": 1443,
    "start_time": "2022-05-15T08:20:14.982Z"
   },
   {
    "duration": 9131,
    "start_time": "2022-05-15T08:22:49.955Z"
   },
   {
    "duration": 60,
    "start_time": "2022-05-15T08:22:59.089Z"
   },
   {
    "duration": 1343,
    "start_time": "2022-05-15T08:22:59.151Z"
   },
   {
    "duration": 0,
    "start_time": "2022-05-15T08:23:00.497Z"
   },
   {
    "duration": 0,
    "start_time": "2022-05-15T08:23:00.498Z"
   },
   {
    "duration": 0,
    "start_time": "2022-05-15T08:23:00.499Z"
   },
   {
    "duration": 0,
    "start_time": "2022-05-15T08:23:00.500Z"
   },
   {
    "duration": 0,
    "start_time": "2022-05-15T08:23:00.501Z"
   },
   {
    "duration": 0,
    "start_time": "2022-05-15T08:23:00.502Z"
   },
   {
    "duration": 0,
    "start_time": "2022-05-15T08:23:00.502Z"
   },
   {
    "duration": 0,
    "start_time": "2022-05-15T08:23:00.503Z"
   },
   {
    "duration": 0,
    "start_time": "2022-05-15T08:23:00.504Z"
   },
   {
    "duration": 0,
    "start_time": "2022-05-15T08:23:00.505Z"
   },
   {
    "duration": 0,
    "start_time": "2022-05-15T08:23:00.506Z"
   },
   {
    "duration": 0,
    "start_time": "2022-05-15T08:23:00.507Z"
   },
   {
    "duration": 0,
    "start_time": "2022-05-15T08:23:00.508Z"
   },
   {
    "duration": 0,
    "start_time": "2022-05-15T08:23:00.509Z"
   },
   {
    "duration": 0,
    "start_time": "2022-05-15T08:23:00.510Z"
   },
   {
    "duration": 0,
    "start_time": "2022-05-15T08:23:00.511Z"
   },
   {
    "duration": 0,
    "start_time": "2022-05-15T08:23:00.511Z"
   },
   {
    "duration": 0,
    "start_time": "2022-05-15T08:23:00.512Z"
   },
   {
    "duration": 0,
    "start_time": "2022-05-15T08:23:00.513Z"
   },
   {
    "duration": 0,
    "start_time": "2022-05-15T08:23:00.515Z"
   },
   {
    "duration": 0,
    "start_time": "2022-05-15T08:23:00.515Z"
   },
   {
    "duration": 0,
    "start_time": "2022-05-15T08:23:00.516Z"
   },
   {
    "duration": 0,
    "start_time": "2022-05-15T08:23:00.517Z"
   },
   {
    "duration": 0,
    "start_time": "2022-05-15T08:23:00.518Z"
   },
   {
    "duration": 0,
    "start_time": "2022-05-15T08:23:00.519Z"
   },
   {
    "duration": 0,
    "start_time": "2022-05-15T08:23:00.520Z"
   },
   {
    "duration": 0,
    "start_time": "2022-05-15T08:23:00.521Z"
   },
   {
    "duration": 0,
    "start_time": "2022-05-15T08:23:00.521Z"
   },
   {
    "duration": 0,
    "start_time": "2022-05-15T08:23:00.522Z"
   },
   {
    "duration": 0,
    "start_time": "2022-05-15T08:23:00.523Z"
   },
   {
    "duration": 0,
    "start_time": "2022-05-15T08:23:00.524Z"
   },
   {
    "duration": 0,
    "start_time": "2022-05-15T08:23:00.525Z"
   },
   {
    "duration": 0,
    "start_time": "2022-05-15T08:23:00.526Z"
   },
   {
    "duration": 0,
    "start_time": "2022-05-15T08:23:00.527Z"
   },
   {
    "duration": 0,
    "start_time": "2022-05-15T08:23:00.527Z"
   },
   {
    "duration": 0,
    "start_time": "2022-05-15T08:23:00.528Z"
   },
   {
    "duration": 0,
    "start_time": "2022-05-15T08:23:00.529Z"
   },
   {
    "duration": 0,
    "start_time": "2022-05-15T08:23:00.530Z"
   },
   {
    "duration": 0,
    "start_time": "2022-05-15T08:23:00.531Z"
   },
   {
    "duration": 0,
    "start_time": "2022-05-15T08:23:00.532Z"
   },
   {
    "duration": 0,
    "start_time": "2022-05-15T08:23:00.589Z"
   },
   {
    "duration": 106,
    "start_time": "2022-05-15T08:23:16.960Z"
   },
   {
    "duration": 9165,
    "start_time": "2022-05-15T08:23:34.086Z"
   },
   {
    "duration": 2238,
    "start_time": "2022-05-15T08:27:49.345Z"
   },
   {
    "duration": 70,
    "start_time": "2022-05-15T08:27:51.585Z"
   },
   {
    "duration": 1352,
    "start_time": "2022-05-15T08:27:51.657Z"
   },
   {
    "duration": 0,
    "start_time": "2022-05-15T08:27:53.011Z"
   },
   {
    "duration": 0,
    "start_time": "2022-05-15T08:27:53.012Z"
   },
   {
    "duration": 0,
    "start_time": "2022-05-15T08:27:53.013Z"
   },
   {
    "duration": 0,
    "start_time": "2022-05-15T08:27:53.014Z"
   },
   {
    "duration": 0,
    "start_time": "2022-05-15T08:27:53.015Z"
   },
   {
    "duration": 0,
    "start_time": "2022-05-15T08:27:53.016Z"
   },
   {
    "duration": 0,
    "start_time": "2022-05-15T08:27:53.017Z"
   },
   {
    "duration": 0,
    "start_time": "2022-05-15T08:27:53.018Z"
   },
   {
    "duration": 0,
    "start_time": "2022-05-15T08:27:53.019Z"
   },
   {
    "duration": 0,
    "start_time": "2022-05-15T08:27:53.020Z"
   },
   {
    "duration": 0,
    "start_time": "2022-05-15T08:27:53.020Z"
   },
   {
    "duration": 0,
    "start_time": "2022-05-15T08:27:53.021Z"
   },
   {
    "duration": 0,
    "start_time": "2022-05-15T08:27:53.022Z"
   },
   {
    "duration": 0,
    "start_time": "2022-05-15T08:27:53.023Z"
   },
   {
    "duration": 0,
    "start_time": "2022-05-15T08:27:53.024Z"
   },
   {
    "duration": 0,
    "start_time": "2022-05-15T08:27:53.025Z"
   },
   {
    "duration": 0,
    "start_time": "2022-05-15T08:27:53.026Z"
   },
   {
    "duration": 0,
    "start_time": "2022-05-15T08:27:53.027Z"
   },
   {
    "duration": 0,
    "start_time": "2022-05-15T08:27:53.028Z"
   },
   {
    "duration": 0,
    "start_time": "2022-05-15T08:27:53.029Z"
   },
   {
    "duration": 0,
    "start_time": "2022-05-15T08:27:53.030Z"
   },
   {
    "duration": 0,
    "start_time": "2022-05-15T08:27:53.031Z"
   },
   {
    "duration": 0,
    "start_time": "2022-05-15T08:27:53.032Z"
   },
   {
    "duration": 0,
    "start_time": "2022-05-15T08:27:53.033Z"
   },
   {
    "duration": 0,
    "start_time": "2022-05-15T08:27:53.034Z"
   },
   {
    "duration": 0,
    "start_time": "2022-05-15T08:27:53.035Z"
   },
   {
    "duration": 0,
    "start_time": "2022-05-15T08:27:53.036Z"
   },
   {
    "duration": 0,
    "start_time": "2022-05-15T08:27:53.037Z"
   },
   {
    "duration": 0,
    "start_time": "2022-05-15T08:27:53.038Z"
   },
   {
    "duration": 0,
    "start_time": "2022-05-15T08:27:53.039Z"
   },
   {
    "duration": 0,
    "start_time": "2022-05-15T08:27:53.040Z"
   },
   {
    "duration": 0,
    "start_time": "2022-05-15T08:27:53.040Z"
   },
   {
    "duration": 0,
    "start_time": "2022-05-15T08:27:53.041Z"
   },
   {
    "duration": 0,
    "start_time": "2022-05-15T08:27:53.042Z"
   },
   {
    "duration": 0,
    "start_time": "2022-05-15T08:27:53.088Z"
   },
   {
    "duration": 0,
    "start_time": "2022-05-15T08:27:53.089Z"
   },
   {
    "duration": 0,
    "start_time": "2022-05-15T08:27:53.090Z"
   },
   {
    "duration": 0,
    "start_time": "2022-05-15T08:27:53.092Z"
   },
   {
    "duration": 0,
    "start_time": "2022-05-15T08:27:53.093Z"
   },
   {
    "duration": 0,
    "start_time": "2022-05-15T08:27:53.094Z"
   },
   {
    "duration": 0,
    "start_time": "2022-05-15T08:27:53.095Z"
   },
   {
    "duration": 2167,
    "start_time": "2022-05-15T08:29:57.960Z"
   },
   {
    "duration": 84,
    "start_time": "2022-05-15T08:30:01.797Z"
   },
   {
    "duration": 4,
    "start_time": "2022-05-15T08:30:03.408Z"
   },
   {
    "duration": 2206,
    "start_time": "2022-05-15T08:30:17.792Z"
   },
   {
    "duration": 74,
    "start_time": "2022-05-15T08:30:20.000Z"
   },
   {
    "duration": 1427,
    "start_time": "2022-05-15T08:30:20.076Z"
   },
   {
    "duration": 0,
    "start_time": "2022-05-15T08:30:21.505Z"
   },
   {
    "duration": 0,
    "start_time": "2022-05-15T08:30:21.506Z"
   },
   {
    "duration": 0,
    "start_time": "2022-05-15T08:30:21.507Z"
   },
   {
    "duration": 0,
    "start_time": "2022-05-15T08:30:21.508Z"
   },
   {
    "duration": 1,
    "start_time": "2022-05-15T08:30:21.509Z"
   },
   {
    "duration": 0,
    "start_time": "2022-05-15T08:30:21.511Z"
   },
   {
    "duration": 0,
    "start_time": "2022-05-15T08:30:21.511Z"
   },
   {
    "duration": 0,
    "start_time": "2022-05-15T08:30:21.512Z"
   },
   {
    "duration": 0,
    "start_time": "2022-05-15T08:30:21.513Z"
   },
   {
    "duration": 0,
    "start_time": "2022-05-15T08:30:21.514Z"
   },
   {
    "duration": 0,
    "start_time": "2022-05-15T08:30:21.515Z"
   },
   {
    "duration": 0,
    "start_time": "2022-05-15T08:30:21.516Z"
   },
   {
    "duration": 0,
    "start_time": "2022-05-15T08:30:21.517Z"
   },
   {
    "duration": 0,
    "start_time": "2022-05-15T08:30:21.518Z"
   },
   {
    "duration": 0,
    "start_time": "2022-05-15T08:30:21.519Z"
   },
   {
    "duration": 0,
    "start_time": "2022-05-15T08:30:21.520Z"
   },
   {
    "duration": 0,
    "start_time": "2022-05-15T08:30:21.521Z"
   },
   {
    "duration": 0,
    "start_time": "2022-05-15T08:30:21.522Z"
   },
   {
    "duration": 0,
    "start_time": "2022-05-15T08:30:21.523Z"
   },
   {
    "duration": 0,
    "start_time": "2022-05-15T08:30:21.524Z"
   },
   {
    "duration": 0,
    "start_time": "2022-05-15T08:30:21.525Z"
   },
   {
    "duration": 0,
    "start_time": "2022-05-15T08:30:21.526Z"
   },
   {
    "duration": 0,
    "start_time": "2022-05-15T08:30:21.527Z"
   },
   {
    "duration": 0,
    "start_time": "2022-05-15T08:30:21.528Z"
   },
   {
    "duration": 0,
    "start_time": "2022-05-15T08:30:21.529Z"
   },
   {
    "duration": 0,
    "start_time": "2022-05-15T08:30:21.529Z"
   },
   {
    "duration": 0,
    "start_time": "2022-05-15T08:30:21.530Z"
   },
   {
    "duration": 0,
    "start_time": "2022-05-15T08:30:21.531Z"
   },
   {
    "duration": 0,
    "start_time": "2022-05-15T08:30:21.532Z"
   },
   {
    "duration": 0,
    "start_time": "2022-05-15T08:30:21.533Z"
   },
   {
    "duration": 0,
    "start_time": "2022-05-15T08:30:21.534Z"
   },
   {
    "duration": 0,
    "start_time": "2022-05-15T08:30:21.535Z"
   },
   {
    "duration": 0,
    "start_time": "2022-05-15T08:30:21.536Z"
   },
   {
    "duration": 0,
    "start_time": "2022-05-15T08:30:21.537Z"
   },
   {
    "duration": 0,
    "start_time": "2022-05-15T08:30:21.538Z"
   },
   {
    "duration": 0,
    "start_time": "2022-05-15T08:30:21.539Z"
   },
   {
    "duration": 0,
    "start_time": "2022-05-15T08:30:21.540Z"
   },
   {
    "duration": 0,
    "start_time": "2022-05-15T08:30:21.589Z"
   },
   {
    "duration": 0,
    "start_time": "2022-05-15T08:30:21.590Z"
   },
   {
    "duration": 0,
    "start_time": "2022-05-15T08:30:21.590Z"
   },
   {
    "duration": 0,
    "start_time": "2022-05-15T08:30:21.591Z"
   },
   {
    "duration": 4,
    "start_time": "2022-05-15T08:30:32.139Z"
   },
   {
    "duration": 2233,
    "start_time": "2022-05-15T08:30:56.327Z"
   },
   {
    "duration": 78,
    "start_time": "2022-05-15T08:30:58.563Z"
   },
   {
    "duration": 1203,
    "start_time": "2022-05-15T08:30:58.643Z"
   },
   {
    "duration": 149,
    "start_time": "2022-05-15T08:30:59.848Z"
   },
   {
    "duration": 0,
    "start_time": "2022-05-15T08:30:59.999Z"
   },
   {
    "duration": 0,
    "start_time": "2022-05-15T08:31:00.001Z"
   },
   {
    "duration": 0,
    "start_time": "2022-05-15T08:31:00.003Z"
   },
   {
    "duration": 0,
    "start_time": "2022-05-15T08:31:00.004Z"
   },
   {
    "duration": 0,
    "start_time": "2022-05-15T08:31:00.006Z"
   },
   {
    "duration": 0,
    "start_time": "2022-05-15T08:31:00.008Z"
   },
   {
    "duration": 0,
    "start_time": "2022-05-15T08:31:00.009Z"
   },
   {
    "duration": 0,
    "start_time": "2022-05-15T08:31:00.010Z"
   },
   {
    "duration": 0,
    "start_time": "2022-05-15T08:31:00.011Z"
   },
   {
    "duration": 0,
    "start_time": "2022-05-15T08:31:00.013Z"
   },
   {
    "duration": 0,
    "start_time": "2022-05-15T08:31:00.014Z"
   },
   {
    "duration": 0,
    "start_time": "2022-05-15T08:31:00.015Z"
   },
   {
    "duration": 0,
    "start_time": "2022-05-15T08:31:00.016Z"
   },
   {
    "duration": 0,
    "start_time": "2022-05-15T08:31:00.017Z"
   },
   {
    "duration": 0,
    "start_time": "2022-05-15T08:31:00.018Z"
   },
   {
    "duration": 0,
    "start_time": "2022-05-15T08:31:00.019Z"
   },
   {
    "duration": 0,
    "start_time": "2022-05-15T08:31:00.020Z"
   },
   {
    "duration": 0,
    "start_time": "2022-05-15T08:31:00.021Z"
   },
   {
    "duration": 0,
    "start_time": "2022-05-15T08:31:00.022Z"
   },
   {
    "duration": 0,
    "start_time": "2022-05-15T08:31:00.023Z"
   },
   {
    "duration": 0,
    "start_time": "2022-05-15T08:31:00.024Z"
   },
   {
    "duration": 0,
    "start_time": "2022-05-15T08:31:00.025Z"
   },
   {
    "duration": 0,
    "start_time": "2022-05-15T08:31:00.026Z"
   },
   {
    "duration": 0,
    "start_time": "2022-05-15T08:31:00.027Z"
   },
   {
    "duration": 0,
    "start_time": "2022-05-15T08:31:00.028Z"
   },
   {
    "duration": 0,
    "start_time": "2022-05-15T08:31:00.029Z"
   },
   {
    "duration": 0,
    "start_time": "2022-05-15T08:31:00.030Z"
   },
   {
    "duration": 0,
    "start_time": "2022-05-15T08:31:00.031Z"
   },
   {
    "duration": 0,
    "start_time": "2022-05-15T08:31:00.032Z"
   },
   {
    "duration": 0,
    "start_time": "2022-05-15T08:31:00.087Z"
   },
   {
    "duration": 0,
    "start_time": "2022-05-15T08:31:00.089Z"
   },
   {
    "duration": 0,
    "start_time": "2022-05-15T08:31:00.090Z"
   },
   {
    "duration": 0,
    "start_time": "2022-05-15T08:31:00.090Z"
   },
   {
    "duration": 0,
    "start_time": "2022-05-15T08:31:00.091Z"
   },
   {
    "duration": 0,
    "start_time": "2022-05-15T08:31:00.092Z"
   },
   {
    "duration": 0,
    "start_time": "2022-05-15T08:31:00.094Z"
   },
   {
    "duration": 0,
    "start_time": "2022-05-15T08:31:00.095Z"
   },
   {
    "duration": 0,
    "start_time": "2022-05-15T08:31:00.095Z"
   },
   {
    "duration": 0,
    "start_time": "2022-05-15T08:31:00.096Z"
   },
   {
    "duration": 0,
    "start_time": "2022-05-15T08:31:00.097Z"
   },
   {
    "duration": 0,
    "start_time": "2022-05-15T08:31:00.098Z"
   },
   {
    "duration": 3,
    "start_time": "2022-05-15T08:31:12.185Z"
   },
   {
    "duration": 69,
    "start_time": "2022-05-15T08:36:18.962Z"
   },
   {
    "duration": 1120,
    "start_time": "2022-05-15T08:36:19.032Z"
   },
   {
    "duration": 12,
    "start_time": "2022-05-15T08:36:20.154Z"
   },
   {
    "duration": 74,
    "start_time": "2022-05-15T08:36:20.168Z"
   },
   {
    "duration": 3,
    "start_time": "2022-05-15T08:36:20.244Z"
   },
   {
    "duration": 13,
    "start_time": "2022-05-15T08:36:20.249Z"
   },
   {
    "duration": 11,
    "start_time": "2022-05-15T08:36:20.264Z"
   },
   {
    "duration": 6,
    "start_time": "2022-05-15T08:36:20.276Z"
   },
   {
    "duration": 12,
    "start_time": "2022-05-15T08:36:20.283Z"
   },
   {
    "duration": 20,
    "start_time": "2022-05-15T08:36:20.297Z"
   },
   {
    "duration": 6,
    "start_time": "2022-05-15T08:36:20.318Z"
   },
   {
    "duration": 4,
    "start_time": "2022-05-15T08:36:20.326Z"
   },
   {
    "duration": 3356,
    "start_time": "2022-05-15T08:36:20.332Z"
   },
   {
    "duration": 3,
    "start_time": "2022-05-15T08:36:23.690Z"
   },
   {
    "duration": 13,
    "start_time": "2022-05-15T08:36:23.695Z"
   },
   {
    "duration": 10,
    "start_time": "2022-05-15T08:36:23.709Z"
   },
   {
    "duration": 5,
    "start_time": "2022-05-15T08:36:23.721Z"
   },
   {
    "duration": 16,
    "start_time": "2022-05-15T08:36:23.728Z"
   },
   {
    "duration": 13,
    "start_time": "2022-05-15T08:36:23.746Z"
   },
   {
    "duration": 15,
    "start_time": "2022-05-15T08:36:23.789Z"
   },
   {
    "duration": 14,
    "start_time": "2022-05-15T08:36:23.806Z"
   },
   {
    "duration": 5,
    "start_time": "2022-05-15T08:36:23.822Z"
   },
   {
    "duration": 8,
    "start_time": "2022-05-15T08:36:23.829Z"
   },
   {
    "duration": 5,
    "start_time": "2022-05-15T08:37:43.579Z"
   },
   {
    "duration": 5,
    "start_time": "2022-05-15T08:37:56.565Z"
   },
   {
    "duration": 6,
    "start_time": "2022-05-15T08:38:08.144Z"
   },
   {
    "duration": 5,
    "start_time": "2022-05-15T08:38:14.560Z"
   },
   {
    "duration": 6,
    "start_time": "2022-05-15T08:38:31.865Z"
   },
   {
    "duration": 112,
    "start_time": "2022-05-15T08:40:05.935Z"
   },
   {
    "duration": 4,
    "start_time": "2022-05-15T08:40:09.196Z"
   },
   {
    "duration": 22,
    "start_time": "2022-05-15T08:40:10.039Z"
   },
   {
    "duration": 24,
    "start_time": "2022-05-15T08:40:22.324Z"
   },
   {
    "duration": 4,
    "start_time": "2022-05-15T08:40:43.221Z"
   },
   {
    "duration": 19,
    "start_time": "2022-05-15T08:40:49.941Z"
   },
   {
    "duration": 12,
    "start_time": "2022-05-15T08:41:09.384Z"
   },
   {
    "duration": 5,
    "start_time": "2022-05-15T08:41:28.138Z"
   },
   {
    "duration": 337,
    "start_time": "2022-05-15T08:41:51.517Z"
   },
   {
    "duration": 15,
    "start_time": "2022-05-15T08:42:44.306Z"
   },
   {
    "duration": 5,
    "start_time": "2022-05-15T08:42:57.009Z"
   },
   {
    "duration": 16,
    "start_time": "2022-05-15T08:43:22.346Z"
   },
   {
    "duration": 31,
    "start_time": "2022-05-15T08:44:33.155Z"
   },
   {
    "duration": 51,
    "start_time": "2022-05-15T08:44:54.787Z"
   },
   {
    "duration": 108,
    "start_time": "2022-05-15T08:44:56.601Z"
   },
   {
    "duration": 14,
    "start_time": "2022-05-15T08:45:04.045Z"
   },
   {
    "duration": 22,
    "start_time": "2022-05-15T08:45:07.887Z"
   },
   {
    "duration": 474,
    "start_time": "2022-05-15T08:45:13.020Z"
   },
   {
    "duration": 393,
    "start_time": "2022-05-15T08:45:15.336Z"
   },
   {
    "duration": 383,
    "start_time": "2022-05-15T08:45:23.796Z"
   },
   {
    "duration": 155,
    "start_time": "2022-05-15T08:45:33.967Z"
   },
   {
    "duration": 24,
    "start_time": "2022-05-15T08:45:40.263Z"
   },
   {
    "duration": 154,
    "start_time": "2022-05-15T08:45:56.199Z"
   },
   {
    "duration": 72,
    "start_time": "2022-05-15T08:46:36.204Z"
   },
   {
    "duration": 1264,
    "start_time": "2022-05-15T08:46:36.278Z"
   },
   {
    "duration": 12,
    "start_time": "2022-05-15T08:46:37.544Z"
   },
   {
    "duration": 77,
    "start_time": "2022-05-15T08:46:37.558Z"
   },
   {
    "duration": 4,
    "start_time": "2022-05-15T08:46:37.636Z"
   },
   {
    "duration": 15,
    "start_time": "2022-05-15T08:46:37.642Z"
   },
   {
    "duration": 11,
    "start_time": "2022-05-15T08:46:37.658Z"
   },
   {
    "duration": 13,
    "start_time": "2022-05-15T08:46:37.671Z"
   },
   {
    "duration": 12,
    "start_time": "2022-05-15T08:46:37.686Z"
   },
   {
    "duration": 19,
    "start_time": "2022-05-15T08:46:37.701Z"
   },
   {
    "duration": 13,
    "start_time": "2022-05-15T08:46:37.721Z"
   },
   {
    "duration": 7,
    "start_time": "2022-05-15T08:46:37.735Z"
   },
   {
    "duration": 3345,
    "start_time": "2022-05-15T08:46:37.743Z"
   },
   {
    "duration": 3,
    "start_time": "2022-05-15T08:46:41.090Z"
   },
   {
    "duration": 14,
    "start_time": "2022-05-15T08:46:41.094Z"
   },
   {
    "duration": 9,
    "start_time": "2022-05-15T08:46:41.109Z"
   },
   {
    "duration": 6,
    "start_time": "2022-05-15T08:46:41.119Z"
   },
   {
    "duration": 16,
    "start_time": "2022-05-15T08:46:41.127Z"
   },
   {
    "duration": 12,
    "start_time": "2022-05-15T08:46:41.144Z"
   },
   {
    "duration": 41,
    "start_time": "2022-05-15T08:46:41.158Z"
   },
   {
    "duration": 19,
    "start_time": "2022-05-15T08:46:41.201Z"
   },
   {
    "duration": 5,
    "start_time": "2022-05-15T08:46:41.222Z"
   },
   {
    "duration": 8,
    "start_time": "2022-05-15T08:46:41.228Z"
   },
   {
    "duration": 5,
    "start_time": "2022-05-15T08:46:41.238Z"
   },
   {
    "duration": 15,
    "start_time": "2022-05-15T08:46:41.244Z"
   },
   {
    "duration": 22,
    "start_time": "2022-05-15T08:46:41.288Z"
   },
   {
    "duration": 491,
    "start_time": "2022-05-15T08:46:41.311Z"
   },
   {
    "duration": 406,
    "start_time": "2022-05-15T08:46:41.805Z"
   },
   {
    "duration": 166,
    "start_time": "2022-05-15T08:46:42.213Z"
   },
   {
    "duration": 7,
    "start_time": "2022-05-15T08:46:42.381Z"
   },
   {
    "duration": 4,
    "start_time": "2022-05-15T08:46:42.389Z"
   },
   {
    "duration": 23,
    "start_time": "2022-05-15T08:46:42.394Z"
   },
   {
    "duration": 4,
    "start_time": "2022-05-15T08:46:42.419Z"
   },
   {
    "duration": 6,
    "start_time": "2022-05-15T08:46:42.425Z"
   },
   {
    "duration": 56,
    "start_time": "2022-05-15T08:46:42.432Z"
   },
   {
    "duration": 98,
    "start_time": "2022-05-15T08:46:42.491Z"
   },
   {
    "duration": 6,
    "start_time": "2022-05-15T08:46:42.591Z"
   },
   {
    "duration": 91,
    "start_time": "2022-05-15T08:46:42.599Z"
   },
   {
    "duration": 9,
    "start_time": "2022-05-15T08:46:42.691Z"
   },
   {
    "duration": 8,
    "start_time": "2022-05-15T08:46:42.702Z"
   },
   {
    "duration": 78,
    "start_time": "2022-05-15T08:46:42.712Z"
   },
   {
    "duration": 96,
    "start_time": "2022-05-15T08:46:42.792Z"
   },
   {
    "duration": 5,
    "start_time": "2022-05-15T08:46:42.890Z"
   },
   {
    "duration": 20,
    "start_time": "2022-05-15T08:46:42.897Z"
   }
  ],
  "kernelspec": {
   "display_name": "Python 3 (ipykernel)",
   "language": "python",
   "name": "python3"
  },
  "language_info": {
   "codemirror_mode": {
    "name": "ipython",
    "version": 3
   },
   "file_extension": ".py",
   "mimetype": "text/x-python",
   "name": "python",
   "nbconvert_exporter": "python",
   "pygments_lexer": "ipython3",
   "version": "3.9.6"
  },
  "toc": {
   "base_numbering": 1,
   "nav_menu": {},
   "number_sections": true,
   "sideBar": true,
   "skip_h1_title": true,
   "title_cell": "Table of Contents",
   "title_sidebar": "Contents",
   "toc_cell": false,
   "toc_position": {},
   "toc_section_display": true,
   "toc_window_display": false
  }
 },
 "nbformat": 4,
 "nbformat_minor": 4
}
